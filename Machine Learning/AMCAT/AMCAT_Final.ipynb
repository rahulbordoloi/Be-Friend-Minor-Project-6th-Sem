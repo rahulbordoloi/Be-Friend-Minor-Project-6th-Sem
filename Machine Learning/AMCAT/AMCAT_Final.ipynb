{
  "nbformat": 4,
  "nbformat_minor": 0,
  "metadata": {
    "colab": {
      "name": "AMCAT Final.ipynb",
      "provenance": [],
      "collapsed_sections": []
    },
    "kernelspec": {
      "name": "python3",
      "display_name": "Python 3"
    }
  },
  "cells": [
    {
      "cell_type": "code",
      "metadata": {
        "id": "ETVXDY_nuGmE",
        "colab_type": "code",
        "colab": {}
      },
      "source": [
        "#upload files\n",
        "from google.colab import files\n",
        "uploaded = files.upload()"
      ],
      "execution_count": 0,
      "outputs": []
    },
    {
      "cell_type": "code",
      "metadata": {
        "id": "BVtGOLbW8t_2",
        "colab_type": "code",
        "colab": {}
      },
      "source": [
        "#downgrading colab \n",
        "!pip install -r \"requirements.txt\""
      ],
      "execution_count": 0,
      "outputs": []
    },
    {
      "cell_type": "code",
      "metadata": {
        "id": "7e2p4pPz6dG5",
        "colab_type": "code",
        "colab": {}
      },
      "source": [
        "#importing libraries\n",
        "import numpy as np\n",
        "import pandas as pd\n",
        "import seaborn as sns\n",
        "import matplotlib.pyplot as plt"
      ],
      "execution_count": 0,
      "outputs": []
    },
    {
      "cell_type": "code",
      "metadata": {
        "id": "g8_9bbAH8_aB",
        "colab_type": "code",
        "colab": {}
      },
      "source": [
        "x1 = pd.read_csv('AMML.csv',error_bad_lines=False,header=0,skiprows=[0]) #,header=None)"
      ],
      "execution_count": 0,
      "outputs": []
    },
    {
      "cell_type": "code",
      "metadata": {
        "id": "aHSU7m2B96Pq",
        "colab_type": "code",
        "colab": {}
      },
      "source": [
        "x1"
      ],
      "execution_count": 0,
      "outputs": []
    },
    {
      "cell_type": "code",
      "metadata": {
        "id": "Iwe0_CxzUQfq",
        "colab_type": "code",
        "colab": {}
      },
      "source": [
        "sns.pairplot(x1)"
      ],
      "execution_count": 0,
      "outputs": []
    },
    {
      "cell_type": "code",
      "metadata": {
        "id": "CXfe4YVn-FSL",
        "colab_type": "code",
        "colab": {}
      },
      "source": [
        "x=x1.iloc[:,13:-1]"
      ],
      "execution_count": 0,
      "outputs": []
    },
    {
      "cell_type": "code",
      "metadata": {
        "id": "bSeHRQip-gaE",
        "colab_type": "code",
        "colab": {}
      },
      "source": [
        "x"
      ],
      "execution_count": 0,
      "outputs": []
    },
    {
      "cell_type": "code",
      "metadata": {
        "id": "VoZFOc_y_Ywc",
        "colab_type": "code",
        "colab": {}
      },
      "source": [
        "x.describe()"
      ],
      "execution_count": 0,
      "outputs": []
    },
    {
      "cell_type": "code",
      "metadata": {
        "id": "9XEqCjS8_mfx",
        "colab_type": "code",
        "colab": {}
      },
      "source": [
        "x.info()"
      ],
      "execution_count": 0,
      "outputs": []
    },
    {
      "cell_type": "code",
      "metadata": {
        "id": "iLDNi4l6-jVF",
        "colab_type": "code",
        "colab": {}
      },
      "source": [
        "y=x1.iloc[:,-1]"
      ],
      "execution_count": 0,
      "outputs": []
    },
    {
      "cell_type": "code",
      "metadata": {
        "id": "QrJ7Sxwp-rTO",
        "colab_type": "code",
        "colab": {}
      },
      "source": [
        "y"
      ],
      "execution_count": 0,
      "outputs": []
    },
    {
      "cell_type": "code",
      "metadata": {
        "id": "5gehuvrs_OEm",
        "colab_type": "code",
        "colab": {}
      },
      "source": [
        "y.describe()"
      ],
      "execution_count": 0,
      "outputs": []
    },
    {
      "cell_type": "code",
      "metadata": {
        "id": "84m3dUAsAD2m",
        "colab_type": "code",
        "colab": {}
      },
      "source": [
        "y.unique()"
      ],
      "execution_count": 0,
      "outputs": []
    },
    {
      "cell_type": "code",
      "metadata": {
        "id": "gNSSoD_BAHfY",
        "colab_type": "code",
        "colab": {}
      },
      "source": [
        "#encoding categorical data\n",
        "from sklearn.preprocessing import LabelEncoder\n",
        "labelencoder_y = LabelEncoder()\n",
        "y=labelencoder_y.fit_transform(y)"
      ],
      "execution_count": 0,
      "outputs": []
    },
    {
      "cell_type": "code",
      "metadata": {
        "id": "gaiZUYjKAnNA",
        "colab_type": "code",
        "colab": {}
      },
      "source": [
        "y"
      ],
      "execution_count": 0,
      "outputs": []
    },
    {
      "cell_type": "code",
      "metadata": {
        "id": "58EiiSfFBCzc",
        "colab_type": "code",
        "colab": {}
      },
      "source": [
        "y.shape"
      ],
      "execution_count": 0,
      "outputs": []
    },
    {
      "cell_type": "code",
      "metadata": {
        "id": "vkijwHSFDJdX",
        "colab_type": "code",
        "colab": {}
      },
      "source": [
        "labelencoder_x = LabelEncoder()\n",
        "x.iloc[:,1] = labelencoder_x.fit_transform(x.iloc[:,1])"
      ],
      "execution_count": 0,
      "outputs": []
    },
    {
      "cell_type": "code",
      "metadata": {
        "id": "wQg1lMTPPhI1",
        "colab_type": "code",
        "colab": {}
      },
      "source": [
        "x.info()"
      ],
      "execution_count": 0,
      "outputs": []
    },
    {
      "cell_type": "code",
      "metadata": {
        "id": "KQtuzErZFYx3",
        "colab_type": "code",
        "colab": {}
      },
      "source": [
        "x.replace(to_replace='MD',value=0,inplace=True)"
      ],
      "execution_count": 0,
      "outputs": []
    },
    {
      "cell_type": "code",
      "metadata": {
        "id": "0VGN3jmPDwDe",
        "colab_type": "code",
        "colab": {}
      },
      "source": [
        "from sklearn.preprocessing import StandardScaler\n",
        "sc_x= StandardScaler()\n",
        "x = sc_x.fit_transform(x)"
      ],
      "execution_count": 0,
      "outputs": []
    },
    {
      "cell_type": "code",
      "metadata": {
        "id": "28lqgF3VbvOd",
        "colab_type": "code",
        "colab": {}
      },
      "source": [
        "x.shape"
      ],
      "execution_count": 0,
      "outputs": []
    },
    {
      "cell_type": "code",
      "metadata": {
        "id": "cfkgXF8LQybk",
        "colab_type": "code",
        "colab": {}
      },
      "source": [
        "x[:]"
      ],
      "execution_count": 0,
      "outputs": []
    },
    {
      "cell_type": "code",
      "metadata": {
        "id": "eit8C3Z0RDiW",
        "colab_type": "code",
        "colab": {}
      },
      "source": [
        "#splitting the dataset into training set and test set\n",
        "from sklearn.model_selection import train_test_split\n",
        "x_train, x_test, y_train, y_test = train_test_split(x, y ,test_size = 0.25, random_state = 0)"
      ],
      "execution_count": 0,
      "outputs": []
    },
    {
      "cell_type": "code",
      "metadata": {
        "id": "XIYMfsGhAzT1",
        "colab_type": "code",
        "colab": {}
      },
      "source": [
        "y=y.reshape(-1, 1)"
      ],
      "execution_count": 0,
      "outputs": []
    },
    {
      "cell_type": "markdown",
      "metadata": {
        "id": "162xEMmze6a-",
        "colab_type": "text"
      },
      "source": [
        "Random Forest"
      ]
    },
    {
      "cell_type": "code",
      "metadata": {
        "id": "78ex4924f2cx",
        "colab_type": "code",
        "colab": {}
      },
      "source": [
        "#fitting random forest classifier to the training set\n",
        "from sklearn.ensemble import RandomForestClassifier as rfc\n",
        "classifier = rfc(n_estimators=100,criterion='entropy',random_state=0)\n",
        "classifier.fit(x_train, y_train)"
      ],
      "execution_count": 0,
      "outputs": []
    },
    {
      "cell_type": "code",
      "metadata": {
        "id": "YqnSC8r9gGUG",
        "colab_type": "code",
        "colab": {}
      },
      "source": [
        "#predicting the test set results\n",
        "y_pred=classifier.predict(x_test)"
      ],
      "execution_count": 0,
      "outputs": []
    },
    {
      "cell_type": "code",
      "metadata": {
        "id": "aNAfpM4YgA5c",
        "colab_type": "code",
        "colab": {}
      },
      "source": [
        "from sklearn.metrics import confusion_matrix\n",
        "cm=confusion_matrix(y_test, y_pred)\n",
        "cm"
      ],
      "execution_count": 0,
      "outputs": []
    },
    {
      "cell_type": "code",
      "metadata": {
        "id": "0Gvb8RAWijFN",
        "colab_type": "code",
        "colab": {}
      },
      "source": [
        "#applying k-fold cross validation\n",
        "from sklearn.model_selection import cross_val_score as cvs\n",
        "accuracies = cvs(estimator=classifier,X=x_train,y=y_train,cv=10)\n",
        "print(accuracies.mean())\n",
        "print(accuracies.std())"
      ],
      "execution_count": 0,
      "outputs": []
    },
    {
      "cell_type": "markdown",
      "metadata": {
        "id": "u_KWYGPce6mI",
        "colab_type": "text"
      },
      "source": [
        "Logistic Regression"
      ]
    },
    {
      "cell_type": "code",
      "metadata": {
        "id": "I0TUFAWWgTlM",
        "colab_type": "code",
        "colab": {}
      },
      "source": [
        "#fitting logistic regression to the training set\n",
        "from sklearn.linear_model import LogisticRegression\n",
        "classifier = LogisticRegression(random_state=0)\n",
        "classifier.fit(x_train, y_train)"
      ],
      "execution_count": 0,
      "outputs": []
    },
    {
      "cell_type": "code",
      "metadata": {
        "colab_type": "code",
        "id": "j86KN2kiSCfw",
        "colab": {}
      },
      "source": [
        "#predicting the test set results\n",
        "y_pred=classifier.predict(x_test)"
      ],
      "execution_count": 0,
      "outputs": []
    },
    {
      "cell_type": "code",
      "metadata": {
        "colab_type": "code",
        "id": "RhO8K5LbSCfy",
        "colab": {}
      },
      "source": [
        "from sklearn.metrics import confusion_matrix\n",
        "cm=confusion_matrix(y_test, y_pred)\n",
        "cm"
      ],
      "execution_count": 0,
      "outputs": []
    },
    {
      "cell_type": "code",
      "metadata": {
        "colab_type": "code",
        "id": "NUrz_GT6Yjdq",
        "colab": {}
      },
      "source": [
        "#applying k-fold cross validation\n",
        "from sklearn.model_selection import cross_val_score as cvs\n",
        "accuracies = cvs(estimator=classifier,X=x_train,y=y_train,cv=10)\n",
        "print(accuracies.mean())\n",
        "print(accuracies.std())"
      ],
      "execution_count": 0,
      "outputs": []
    },
    {
      "cell_type": "markdown",
      "metadata": {
        "id": "bpxkE6dae6tW",
        "colab_type": "text"
      },
      "source": [
        "SVM"
      ]
    },
    {
      "cell_type": "code",
      "metadata": {
        "id": "vw9GPUnxh-PM",
        "colab_type": "code",
        "colab": {}
      },
      "source": [
        "#fitting kernel SVM to the training set\n",
        "from sklearn.svm import SVC\n",
        "classifier = SVC(kernel='rbf', random_state=0)\n",
        "classifier.fit(x_train, y_train)"
      ],
      "execution_count": 0,
      "outputs": []
    },
    {
      "cell_type": "code",
      "metadata": {
        "colab_type": "code",
        "id": "MvYuFZqySG9Z",
        "colab": {}
      },
      "source": [
        "#predicting the test set results\n",
        "y_pred=classifier.predict(x_test)"
      ],
      "execution_count": 0,
      "outputs": []
    },
    {
      "cell_type": "code",
      "metadata": {
        "colab_type": "code",
        "id": "kFZ2gcuQSG9c",
        "colab": {}
      },
      "source": [
        "from sklearn.metrics import confusion_matrix\n",
        "cm=confusion_matrix(y_test, y_pred)\n",
        "cm"
      ],
      "execution_count": 0,
      "outputs": []
    },
    {
      "cell_type": "code",
      "metadata": {
        "colab_type": "code",
        "id": "GVBhGvYdYqZl",
        "colab": {}
      },
      "source": [
        "#applying k-fold cross validation\n",
        "from sklearn.model_selection import cross_val_score as cvs\n",
        "accuracies = cvs(estimator=classifier,X=x_train,y=y_train,cv=10)\n",
        "print(accuracies.mean())\n",
        "print(accuracies.std())"
      ],
      "execution_count": 0,
      "outputs": []
    },
    {
      "cell_type": "code",
      "metadata": {
        "colab_type": "code",
        "id": "3sRPvgbIo_71",
        "colab": {}
      },
      "source": [
        "#fitting kernel SVM to the training set\n",
        "from sklearn.svm import SVC\n",
        "classifier = SVC(kernel='linear', random_state=0)\n",
        "classifier.fit(x_train, y_train)"
      ],
      "execution_count": 0,
      "outputs": []
    },
    {
      "cell_type": "code",
      "metadata": {
        "colab_type": "code",
        "id": "R75Di7QqSIPT",
        "colab": {}
      },
      "source": [
        "#predicting the test set results\n",
        "y_pred=classifier.predict(x_test)"
      ],
      "execution_count": 0,
      "outputs": []
    },
    {
      "cell_type": "code",
      "metadata": {
        "colab_type": "code",
        "id": "yqKGnsd1SIPV",
        "colab": {}
      },
      "source": [
        "from sklearn.metrics import confusion_matrix\n",
        "cm=confusion_matrix(y_test, y_pred)\n",
        "cm"
      ],
      "execution_count": 0,
      "outputs": []
    },
    {
      "cell_type": "code",
      "metadata": {
        "colab_type": "code",
        "id": "Nv-urmMuYvAC",
        "colab": {}
      },
      "source": [
        "#applying k-fold cross validation\n",
        "from sklearn.model_selection import cross_val_score as cvs\n",
        "accuracies = cvs(estimator=classifier,X=x_train,y=y_train,cv=10)\n",
        "print(accuracies.mean())\n",
        "print(accuracies.std())"
      ],
      "execution_count": 0,
      "outputs": []
    },
    {
      "cell_type": "markdown",
      "metadata": {
        "id": "b9UaMar5e60z",
        "colab_type": "text"
      },
      "source": [
        "K-NN"
      ]
    },
    {
      "cell_type": "code",
      "metadata": {
        "id": "cgyb1kIFgx43",
        "colab_type": "code",
        "colab": {}
      },
      "source": [
        "from sklearn.neighbors import KNeighborsClassifier as knc\n",
        "classifier=knc(n_neighbors=10,metric='minkowski',p=2)\n",
        "classifier.fit(x_train, y_train)"
      ],
      "execution_count": 0,
      "outputs": []
    },
    {
      "cell_type": "code",
      "metadata": {
        "colab_type": "code",
        "id": "Ex_uanjKSJtT",
        "colab": {}
      },
      "source": [
        "#predicting the test set results\n",
        "y_pred=classifier.predict(x_test)"
      ],
      "execution_count": 0,
      "outputs": []
    },
    {
      "cell_type": "code",
      "metadata": {
        "colab_type": "code",
        "id": "iI5fF0-gSJtW",
        "colab": {}
      },
      "source": [
        "from sklearn.metrics import confusion_matrix\n",
        "cm=confusion_matrix(y_test, y_pred)\n",
        "cm"
      ],
      "execution_count": 0,
      "outputs": []
    },
    {
      "cell_type": "code",
      "metadata": {
        "colab_type": "code",
        "id": "flAXvYRsY1MI",
        "colab": {}
      },
      "source": [
        "#applying k-fold cross validation\n",
        "from sklearn.model_selection import cross_val_score as cvs\n",
        "accuracies = cvs(estimator=classifier,X=x_train,y=y_train,cv=10)\n",
        "print(accuracies.mean())\n",
        "print(accuracies.std())"
      ],
      "execution_count": 0,
      "outputs": []
    },
    {
      "cell_type": "markdown",
      "metadata": {
        "id": "nYwsVG0je69G",
        "colab_type": "text"
      },
      "source": [
        "Decision Tree"
      ]
    },
    {
      "cell_type": "code",
      "metadata": {
        "id": "_nt67tnDhF_s",
        "colab_type": "code",
        "colab": {}
      },
      "source": [
        "#fitting decision tree classifier to the training set\n",
        "from sklearn.tree import DecisionTreeClassifier as dtc\n",
        "classifier = dtc(criterion='entropy' , random_state=0)\n",
        "classifier.fit(x_train, y_train)"
      ],
      "execution_count": 0,
      "outputs": []
    },
    {
      "cell_type": "code",
      "metadata": {
        "colab_type": "code",
        "id": "Qu-P0XDmSLBY",
        "colab": {}
      },
      "source": [
        "#predicting the test set results\n",
        "y_pred=classifier.predict(x_test)"
      ],
      "execution_count": 0,
      "outputs": []
    },
    {
      "cell_type": "code",
      "metadata": {
        "colab_type": "code",
        "id": "LmlGCBUoSLBc",
        "colab": {}
      },
      "source": [
        "from sklearn.metrics import confusion_matrix\n",
        "cm=confusion_matrix(y_test, y_pred)\n",
        "cm"
      ],
      "execution_count": 0,
      "outputs": []
    },
    {
      "cell_type": "code",
      "metadata": {
        "colab_type": "code",
        "id": "yJpduBG9Y4Np",
        "colab": {}
      },
      "source": [
        "#applying k-fold cross validation\n",
        "from sklearn.model_selection import cross_val_score as cvs\n",
        "accuracies = cvs(estimator=classifier,X=x_train,y=y_train,cv=10)\n",
        "print(accuracies.mean())\n",
        "print(accuracies.std())"
      ],
      "execution_count": 0,
      "outputs": []
    },
    {
      "cell_type": "markdown",
      "metadata": {
        "id": "8RwngHYne7Ex",
        "colab_type": "text"
      },
      "source": [
        "Naive Bayes"
      ]
    },
    {
      "cell_type": "code",
      "metadata": {
        "id": "McO26poLhM6R",
        "colab_type": "code",
        "colab": {}
      },
      "source": [
        "#fitting naive bayes to the training set\n",
        "from sklearn.naive_bayes import GaussianNB\n",
        "classifier = GaussianNB()\n",
        "classifier.fit(x_train, y_train)"
      ],
      "execution_count": 0,
      "outputs": []
    },
    {
      "cell_type": "code",
      "metadata": {
        "colab_type": "code",
        "id": "oKzqqD-XSMXR",
        "colab": {}
      },
      "source": [
        "#predicting the test set results\n",
        "y_pred=classifier.predict(x_test)"
      ],
      "execution_count": 0,
      "outputs": []
    },
    {
      "cell_type": "code",
      "metadata": {
        "colab_type": "code",
        "id": "CQ8v7RGQSMXW",
        "colab": {}
      },
      "source": [
        "from sklearn.metrics import confusion_matrix\n",
        "cm=confusion_matrix(y_test, y_pred)\n",
        "cm"
      ],
      "execution_count": 0,
      "outputs": []
    },
    {
      "cell_type": "code",
      "metadata": {
        "colab_type": "code",
        "id": "7BYjM-3HY7mR",
        "colab": {}
      },
      "source": [
        "#applying k-fold cross validation\n",
        "from sklearn.model_selection import cross_val_score as cvs\n",
        "accuracies = cvs(estimator=classifier,X=x_train,y=y_train,cv=10)\n",
        "print(accuracies.mean())\n",
        "print(accuracies.std())"
      ],
      "execution_count": 0,
      "outputs": []
    },
    {
      "cell_type": "markdown",
      "metadata": {
        "id": "i8W-4jHqThqc",
        "colab_type": "text"
      },
      "source": [
        "Final Evaluation"
      ]
    },
    {
      "cell_type": "code",
      "metadata": {
        "id": "u4CpEI-2QS67",
        "colab_type": "code",
        "colab": {}
      },
      "source": [
        "from sklearn.metrics import classification_report, confusion_matrix"
      ],
      "execution_count": 0,
      "outputs": []
    },
    {
      "cell_type": "code",
      "metadata": {
        "colab_type": "code",
        "id": "WW7yQI6mbmqc",
        "colab": {}
      },
      "source": [
        "#fitting random forest classifier to the training set\n",
        "from sklearn.ensemble import RandomForestClassifier as rfc\n",
        "classifier = rfc(n_estimators=10000,criterion='entropy',random_state=0,verbose=0)\n",
        "classifier.fit(x_train, y_train)"
      ],
      "execution_count": 0,
      "outputs": []
    },
    {
      "cell_type": "code",
      "metadata": {
        "colab_type": "code",
        "id": "h70NjnNKbmqe",
        "colab": {}
      },
      "source": [
        "#predicting the test set results\n",
        "y_pred=classifier.predict(x_test)"
      ],
      "execution_count": 0,
      "outputs": []
    },
    {
      "cell_type": "code",
      "metadata": {
        "colab_type": "code",
        "id": "4ohH-CsFbmqg",
        "colab": {}
      },
      "source": [
        "from sklearn.metrics import confusion_matrix\n",
        "cm=confusion_matrix(y_test, y_pred)\n",
        "cm"
      ],
      "execution_count": 0,
      "outputs": []
    },
    {
      "cell_type": "code",
      "metadata": {
        "id": "ztNZS55sQS7C",
        "colab_type": "code",
        "colab": {}
      },
      "source": [
        "#observating classification report for performance evaluation\n",
        "print(classification_report(y_test, y_pred))"
      ],
      "execution_count": 0,
      "outputs": []
    },
    {
      "cell_type": "code",
      "metadata": {
        "id": "uz6_Q-JRioc6",
        "colab_type": "code",
        "colab": {}
      },
      "source": [
        "#applying grid search to find the best model and best parameters\n",
        "from sklearn.model_selection import GridSearchCV as gsv\n",
        "parameters = [{'n_estimators':[10,100,500],'criterion':['entropy','gini'],'verbose':[0,1]}]\n",
        "grid_search=gsv(estimator=classifier,\n",
        "                param_grid=parameters,\n",
        "                scoring='accuracy',\n",
        "                cv=10,\n",
        "                n_jobs=1)\n",
        "grid_search=grid_search.fit(x_train,y_train)\n",
        "print('best_accuracy=',grid_search.best_score_)\n",
        "print('best_parameters=',grid_search.best_params_)"
      ],
      "execution_count": 0,
      "outputs": []
    },
    {
      "cell_type": "markdown",
      "metadata": {
        "id": "cwwRLqWjjTMp",
        "colab_type": "text"
      },
      "source": [
        "ANN"
      ]
    },
    {
      "cell_type": "code",
      "metadata": {
        "id": "K2QGdWBCjRhI",
        "colab_type": "code",
        "colab": {}
      },
      "source": [
        "%tensorflow_version 1.x"
      ],
      "execution_count": 0,
      "outputs": []
    },
    {
      "cell_type": "code",
      "metadata": {
        "colab_type": "code",
        "id": "Ylx5P5DTkEeJ",
        "colab": {}
      },
      "source": [
        "y=y.reshape(-1, 1)"
      ],
      "execution_count": 0,
      "outputs": []
    },
    {
      "cell_type": "code",
      "metadata": {
        "id": "ZcJ3EeGwBI5f",
        "colab_type": "code",
        "colab": {}
      },
      "source": [
        "from sklearn.preprocessing import OneHotEncoder\n",
        "onehotencoder = OneHotEncoder()\n",
        "y=onehotencoder.fit_transform(y).toarray()"
      ],
      "execution_count": 0,
      "outputs": []
    },
    {
      "cell_type": "code",
      "metadata": {
        "colab_type": "code",
        "id": "jsvg7IIsdU7j",
        "colab": {}
      },
      "source": [
        "#splitting the dataset into training set and test set\n",
        "from sklearn.model_selection import train_test_split\n",
        "x_train, x_test, y_train, y_test = train_test_split(x, yy ,test_size = 0.25, random_state = 0)"
      ],
      "execution_count": 0,
      "outputs": []
    },
    {
      "cell_type": "code",
      "metadata": {
        "id": "MWjTrOETkH8R",
        "colab_type": "code",
        "colab": {}
      },
      "source": [
        "yy.shape"
      ],
      "execution_count": 0,
      "outputs": []
    },
    {
      "cell_type": "code",
      "metadata": {
        "id": "nRAC5tq-Y_RT",
        "colab_type": "code",
        "colab": {}
      },
      "source": [
        "x.shape"
      ],
      "execution_count": 0,
      "outputs": []
    },
    {
      "cell_type": "code",
      "metadata": {
        "id": "ZMhz9m6VjW1U",
        "colab_type": "code",
        "colab": {}
      },
      "source": [
        "import tensorflow.keras\n",
        "from keras.models import Sequential\n",
        "from keras.layers import Dense"
      ],
      "execution_count": 0,
      "outputs": []
    },
    {
      "cell_type": "code",
      "metadata": {
        "id": "70gwQupxe4G1",
        "colab_type": "code",
        "colab": {}
      },
      "source": [
        "yy=x1.iloc[:,-1]"
      ],
      "execution_count": 0,
      "outputs": []
    },
    {
      "cell_type": "code",
      "metadata": {
        "id": "Zlt40l8Ye6N7",
        "colab_type": "code",
        "colab": {}
      },
      "source": [
        "ly = LabelEncoder()\n",
        "yy=ly.fit_transform(yy)"
      ],
      "execution_count": 0,
      "outputs": []
    },
    {
      "cell_type": "code",
      "metadata": {
        "id": "yH3Hu5mU8YCB",
        "colab_type": "code",
        "colab": {}
      },
      "source": [
        "#initialising the ANN\n",
        "classifier = Sequential()"
      ],
      "execution_count": 0,
      "outputs": []
    },
    {
      "cell_type": "code",
      "metadata": {
        "id": "GfzNZ6RoV-Lx",
        "colab_type": "code",
        "colab": {}
      },
      "source": [
        "#adding the input lapyer and the 1st hidden layer\n",
        "classifier.add(Dense(units=15,kernel_initializer=\"uniform\",activation=\"relu\",input_dim=17))"
      ],
      "execution_count": 0,
      "outputs": []
    },
    {
      "cell_type": "code",
      "metadata": {
        "id": "pk_Qkr3Bfmqy",
        "colab_type": "code",
        "colab": {}
      },
      "source": [
        "#adding the 2nd hidden layer\n",
        "classifier.add(Dense(units=15,kernel_initializer=\"uniform\",activation=\"relu\"))"
      ],
      "execution_count": 0,
      "outputs": []
    },
    {
      "cell_type": "code",
      "metadata": {
        "id": "TtUT7Z6V9p-b",
        "colab_type": "code",
        "colab": {}
      },
      "source": [
        "#adding the output layer\n",
        "classifier.add(Dense(units=4,kernel_initializer=\"uniform\",activation='softmax'))     "
      ],
      "execution_count": 0,
      "outputs": []
    },
    {
      "cell_type": "code",
      "metadata": {
        "id": "lTzGWa67vUSn",
        "colab_type": "code",
        "colab": {}
      },
      "source": [
        "#compiling the ANN\n",
        "from keras.optimizers import Adam\n",
        "classifier.compile(optimizer=Adam(lr=0.001),loss=\"sparse_categorical_crossentropy\",metrics=[\"accuracy\"])"
      ],
      "execution_count": 0,
      "outputs": []
    },
    {
      "cell_type": "code",
      "metadata": {
        "id": "VSaxxoWGDvKd",
        "colab_type": "code",
        "colab": {}
      },
      "source": [
        "#fitting the ANN to the Training set\n",
        "epochs_hist = classifier.fit(x_train, y_train, epochs=500, batch_size=50, verbose=0, validation_split=0.2)"
      ],
      "execution_count": 0,
      "outputs": []
    },
    {
      "cell_type": "code",
      "metadata": {
        "id": "ry8aXP4Wdv_Q",
        "colab_type": "code",
        "colab": {}
      },
      "source": [
        "#obtaining the accuracy of the model\n",
        "score = classifier.evaluate(x_test, y_test,verbose=1)\n",
        "print('Test Accuracy : {:.4f}'.format(score[1]))"
      ],
      "execution_count": 0,
      "outputs": []
    },
    {
      "cell_type": "code",
      "metadata": {
        "id": "qNYZ-U2Bdv_S",
        "colab_type": "code",
        "colab": {}
      },
      "source": [
        "#keys in the evalute() dictionary\n",
        "epochs_hist.history.keys()"
      ],
      "execution_count": 0,
      "outputs": []
    },
    {
      "cell_type": "code",
      "metadata": {
        "id": "TpleNdaJghaa",
        "colab_type": "code",
        "colab": {}
      },
      "source": [
        "epochs_hist.history['val_accuracy']"
      ],
      "execution_count": 0,
      "outputs": []
    },
    {
      "cell_type": "code",
      "metadata": {
        "id": "06K8ApusAHJq",
        "colab_type": "code",
        "colab": {}
      },
      "source": [
        "plt.plot(epochs_hist.history['loss'])\n",
        "\n",
        "plt.title('Model Loss Progression During Training')\n",
        "plt.ylabel('Training Loss')\n",
        "plt.xlabel('Epoch Number')\n",
        "plt.legend(['Training Loss'])"
      ],
      "execution_count": 0,
      "outputs": []
    },
    {
      "cell_type": "code",
      "metadata": {
        "id": "aid5VPxiR_Sm",
        "colab_type": "code",
        "colab": {}
      },
      "source": [
        "#example to test random test case\n",
        "X_test_sample = np.array([[0, 0.4370344,  0.53515116, 0.57836085, 0.22342985]])\n",
        "y_predict_sample = model.predict(X_test_sample)\n",
        "print('Expected Category', y_predict_sample)                             #scaled\n",
        "y_predict_sample_orig = scaler_y.inverse_transform(y_predict_sample)\n",
        "print('Expected Category=', y_predict_sample_orig)                        #original"
      ],
      "execution_count": 0,
      "outputs": []
    }
  ]
}