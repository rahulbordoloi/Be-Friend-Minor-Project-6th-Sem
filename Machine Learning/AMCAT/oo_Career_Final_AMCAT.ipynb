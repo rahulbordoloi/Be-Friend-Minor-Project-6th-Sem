{
  "nbformat": 4,
  "nbformat_minor": 0,
  "metadata": {
    "colab": {
      "name": "oo_Career_Final_AMCAT.ipynb",
      "provenance": [],
      "private_outputs": true,
      "collapsed_sections": [
        "YtMOtMtBIjZL",
        "nHHUf5-MIjZR",
        "t4GIAUOAIjaJ",
        "RSUNWrGMIjaO",
        "DrcY9dxqIjaQ",
        "oHC_vkk8Ijas",
        "5_5eu-zZIjau",
        "DaBQMxZ3IjbP",
        "6axCZo0JIjbY",
        "iTpv_qcB1nZj"
      ],
      "toc_visible": true
    },
    "kernelspec": {
      "name": "python3",
      "display_name": "Python 3"
    }
  },
  "cells": [
    {
      "cell_type": "markdown",
      "metadata": {
        "colab_type": "text",
        "id": "n6JMkNPuIgT1"
      },
      "source": [
        "# Enhanced-Analytic-System-for-Smart-University-Assistance\n",
        "Name - Rahul Bordoloi                                         \n",
        "Roll No - 1729048                                           \n",
        "Project Name - Be-Friend      \n",
        "Github Repo -  [Link](https://github.com/rahulbordoloi/Enhanced-Analytic-System-for-Smart-University-Assistance/)                  \n",
        "Email - rahulbordoloi24@gmail.com, 1729048@kiit.ac.in                          \n",
        "Language - Python                      \n",
        "Project is Done on Google Colab.                      "
      ]
    },
    {
      "cell_type": "markdown",
      "metadata": {
        "colab_type": "text",
        "id": "jA9RNdbzIjZL"
      },
      "source": [
        "*   Libraries Pre-requisites -  [requirements.txt](https://drive.google.com/file/d/1RmyCxSOJBOnDc-I3Xn8a_laz58f1pi4b/view?usp=sharing)        \n",
        "\n",
        "*   Download Pre-loaded Model -  [Pickle Link](https://drive.google.com/file/d/1jRVVnEVPGb2_6UXqfTjOg-MpzqolknZz/view?usp=sharing)\n",
        "\n",
        "\n",
        "To install , download the file and run -\n",
        "```\n",
        "!pip install -r requirements.txt\n",
        "```\n",
        "*   RAM of 8GB is preferred if run on Local.\n",
        "\n",
        "\n",
        "\n",
        "\n",
        "\n"
      ]
    },
    {
      "cell_type": "markdown",
      "metadata": {
        "colab_type": "text",
        "id": "YtMOtMtBIjZL"
      },
      "source": [
        "# 1. Import Dataset and Libraries"
      ]
    },
    {
      "cell_type": "code",
      "metadata": {
        "colab_type": "code",
        "id": "jFU_GbOQIjZL",
        "colab": {}
      },
      "source": [
        "from google.colab import drive\n",
        "drive.mount('/content/drive')"
      ],
      "execution_count": 0,
      "outputs": []
    },
    {
      "cell_type": "code",
      "metadata": {
        "id": "CwiSRcAMJ1_f",
        "colab_type": "code",
        "colab": {}
      },
      "source": [
        "import warnings\n",
        "warnings.filterwarnings(\"ignore\")"
      ],
      "execution_count": 0,
      "outputs": []
    },
    {
      "cell_type": "code",
      "metadata": {
        "colab_type": "code",
        "id": "T_ytc8G8IjZM",
        "colab": {}
      },
      "source": [
        "import pandas as pd\n",
        "import numpy as np\n",
        "import matplotlib.pyplot as plt\n",
        "import seaborn as sns"
      ],
      "execution_count": 0,
      "outputs": []
    },
    {
      "cell_type": "code",
      "metadata": {
        "colab_type": "code",
        "id": "aW1Sbm7GIjZN",
        "colab": {}
      },
      "source": [
        "train = pd.read_csv('/content/drive/My Drive/Minor Final/train.csv', error_bad_lines=False, header=0, skiprows=[0], encoding='ISO-8859-1')"
      ],
      "execution_count": 0,
      "outputs": []
    },
    {
      "cell_type": "code",
      "metadata": {
        "id": "TrZ5XButOXbo",
        "colab_type": "code",
        "colab": {}
      },
      "source": [
        "test = pd.read_csv('/content/drive/My Drive/Minor Final/test.csv', error_bad_lines=False, header=0, skiprows=[0], encoding='ISO-8859-1') "
      ],
      "execution_count": 0,
      "outputs": []
    },
    {
      "cell_type": "code",
      "metadata": {
        "id": "DhCBu341OBx4",
        "colab_type": "code",
        "colab": {}
      },
      "source": [
        "train.head(2)"
      ],
      "execution_count": 0,
      "outputs": []
    },
    {
      "cell_type": "code",
      "metadata": {
        "colab_type": "code",
        "id": "U2c0Mgc4IjZQ",
        "colab": {}
      },
      "source": [
        "print(train.shape,test.shape)"
      ],
      "execution_count": 0,
      "outputs": []
    },
    {
      "cell_type": "markdown",
      "metadata": {
        "colab_type": "text",
        "id": "nHHUf5-MIjZR"
      },
      "source": [
        "# 2. Working on Train [Feature Engg and Selection]"
      ]
    },
    {
      "cell_type": "markdown",
      "metadata": {
        "colab_type": "text",
        "id": "Vh6YmqBuIjZS"
      },
      "source": [
        "Visualising and Dropping off the Completely Null Columns"
      ]
    },
    {
      "cell_type": "code",
      "metadata": {
        "colab_type": "code",
        "id": "Q0eEaiulIjZS",
        "colab": {}
      },
      "source": [
        "#how many values are missing in each column.\n",
        "train.isnull().sum()"
      ],
      "execution_count": 0,
      "outputs": []
    },
    {
      "cell_type": "markdown",
      "metadata": {
        "id": "1SlbKp3PO7Mh",
        "colab_type": "text"
      },
      "source": [
        "Result : There's not even a single null value in the whole dataset. <br>\n",
        "Therefore we can except a plain heatmap."
      ]
    },
    {
      "cell_type": "code",
      "metadata": {
        "colab_type": "code",
        "id": "lOSUTdUqIjZV",
        "colab": {}
      },
      "source": [
        "#visualizing and observing the null elements in the dataset\n",
        "plt.figure(figsize=(10,10))\n",
        "sns.heatmap(train.isnull(), cbar = False, cmap = 'YlGnBu')   #ploting missing data #cbar, cmap = colour bar, colour map"
      ],
      "execution_count": 0,
      "outputs": []
    },
    {
      "cell_type": "code",
      "metadata": {
        "colab_type": "code",
        "id": "iATWgb4QIjZX",
        "colab": {}
      },
      "source": [
        "train"
      ],
      "execution_count": 0,
      "outputs": []
    },
    {
      "cell_type": "markdown",
      "metadata": {
        "id": "aaVSX2a4Pfom",
        "colab_type": "text"
      },
      "source": [
        "To check for duplicate columns"
      ]
    },
    {
      "cell_type": "code",
      "metadata": {
        "colab_type": "code",
        "id": "WQ09xoqGIjZj",
        "colab": {}
      },
      "source": [
        "x = set()                                                    # set as to store only the unique values\n",
        "for i in range(train.shape[1]):\n",
        "        c1 = train.iloc[:, i]\n",
        "        for j in range(i + 1, train.shape[1]):\n",
        "            c2 = train.iloc[:, j]\n",
        "            if c1.equals(c2):\n",
        "                x.add(train.columns.values[j])\n",
        "for col in x:\n",
        "        print(col)"
      ],
      "execution_count": 0,
      "outputs": []
    },
    {
      "cell_type": "markdown",
      "metadata": {
        "id": "9wMNtLqdPk15",
        "colab_type": "text"
      },
      "source": [
        "Result : All the columns are unique in nature"
      ]
    },
    {
      "cell_type": "code",
      "metadata": {
        "colab_type": "code",
        "id": "S9UX1IPIIjZk",
        "colab": {}
      },
      "source": [
        "#gives out no of unqiue elements per column\n",
        "train.nunique()"
      ],
      "execution_count": 0,
      "outputs": []
    },
    {
      "cell_type": "code",
      "metadata": {
        "colab_type": "code",
        "id": "t8ZeGJJ3IjZl",
        "colab": {}
      },
      "source": [
        "train.info()"
      ],
      "execution_count": 0,
      "outputs": []
    },
    {
      "cell_type": "code",
      "metadata": {
        "colab_type": "code",
        "id": "a7uUXCz0IjZm",
        "colab": {}
      },
      "source": [
        "train.describe()"
      ],
      "execution_count": 0,
      "outputs": []
    },
    {
      "cell_type": "code",
      "metadata": {
        "colab_type": "code",
        "id": "EkUUztUNIjZn",
        "colab": {}
      },
      "source": [
        "train.columns"
      ],
      "execution_count": 0,
      "outputs": []
    },
    {
      "cell_type": "code",
      "metadata": {
        "colab_type": "code",
        "id": "_CDfH0XpIjZo",
        "colab": {}
      },
      "source": [
        "train.drop(['Candidate ID','Name','Number of characters in Original Name','Month of Birth','Year of Birth'],      # dropping unnecessary columns\n",
        "           inplace = True, axis = 1)                                                                                        "
      ],
      "execution_count": 0,
      "outputs": []
    },
    {
      "cell_type": "code",
      "metadata": {
        "id": "iXkmLrm_dO46",
        "colab_type": "code",
        "colab": {}
      },
      "source": [
        "train.drop(['State (Location)'], inplace = True, axis = 1)            # because it isn't necessary and cause more ambiguity in our data."
      ],
      "execution_count": 0,
      "outputs": []
    },
    {
      "cell_type": "code",
      "metadata": {
        "colab_type": "code",
        "id": "4-2W0kWtIjZp",
        "colab": {}
      },
      "source": [
        "train.head(5)"
      ],
      "execution_count": 0,
      "outputs": []
    },
    {
      "cell_type": "code",
      "metadata": {
        "id": "Eq7CcP5yf85F",
        "colab_type": "code",
        "colab": {}
      },
      "source": [
        "train[train['Degree of study'] == 'X'].shape[0]"
      ],
      "execution_count": 0,
      "outputs": []
    },
    {
      "cell_type": "markdown",
      "metadata": {
        "id": "tFShHFStg5hu",
        "colab_type": "text"
      },
      "source": [
        "Therefore, Degree of Study is a Quasi-Constant Column"
      ]
    },
    {
      "cell_type": "code",
      "metadata": {
        "id": "Mo5mCJSBhO7c",
        "colab_type": "code",
        "colab": {}
      },
      "source": [
        "number_of_occ_per = 653/train.shape[0] * 100\n",
        "print(str(number_of_occ_per) + '%') "
      ],
      "execution_count": 0,
      "outputs": []
    },
    {
      "cell_type": "code",
      "metadata": {
        "colab_type": "code",
        "id": "V5gXM5obiicn",
        "colab": {}
      },
      "source": [
        "#encoding categorical data Gender\n",
        "from sklearn.preprocessing import LabelEncoder\n",
        "l = LabelEncoder()\n",
        "x=pd.DataFrame()\n",
        "x.loc[:,'Degree'] = l.fit_transform(train.loc[:,'Degree of study'])"
      ],
      "execution_count": 0,
      "outputs": []
    },
    {
      "cell_type": "code",
      "metadata": {
        "id": "AVJGxlmlkAMI",
        "colab_type": "code",
        "colab": {}
      },
      "source": [
        "x"
      ],
      "execution_count": 0,
      "outputs": []
    },
    {
      "cell_type": "code",
      "metadata": {
        "id": "qisOUQXJiuUp",
        "colab_type": "code",
        "colab": {}
      },
      "source": [
        "from sklearn.feature_selection import VarianceThreshold\n",
        "qconstant_filter = VarianceThreshold(threshold=0.01)\n",
        "qconstant_filter.fit(x)\n",
        "\n",
        "len(x.columns[qconstant_filter.get_support()])\n",
        "\n",
        "# len(train.columns[constant_filter.get_support()])"
      ],
      "execution_count": 0,
      "outputs": []
    },
    {
      "cell_type": "markdown",
      "metadata": {
        "id": "WwPAU0bhkmSp",
        "colab_type": "text"
      },
      "source": [
        "Therefore, Degree of study must be dropped."
      ]
    },
    {
      "cell_type": "code",
      "metadata": {
        "id": "439P7qxmklRI",
        "colab_type": "code",
        "colab": {}
      },
      "source": [
        "train.drop(['Degree of study'], inplace = True, axis = 1)"
      ],
      "execution_count": 0,
      "outputs": []
    },
    {
      "cell_type": "code",
      "metadata": {
        "colab_type": "code",
        "id": "LMFgyNVOIjZs",
        "colab": {}
      },
      "source": [
        "train.shape"
      ],
      "execution_count": 0,
      "outputs": []
    },
    {
      "cell_type": "code",
      "metadata": {
        "id": "TELOHqrRSL_z",
        "colab_type": "code",
        "colab": {}
      },
      "source": [
        "train['10th Completion Year'].unique(), train['Year of Completion of college'].unique(), train['Quantitative Ability 1'].unique(), train['Domain Skills 1'].unique(), train['Analytical Skills 1'].unique()"
      ],
      "execution_count": 0,
      "outputs": []
    },
    {
      "cell_type": "code",
      "metadata": {
        "id": "KQtuzErZFYx3",
        "colab_type": "code",
        "colab": {}
      },
      "source": [
        "train.replace(to_replace='MD', value = float(0.0), inplace = True)"
      ],
      "execution_count": 0,
      "outputs": []
    },
    {
      "cell_type": "code",
      "metadata": {
        "id": "EtMjOT0mVBib",
        "colab_type": "code",
        "colab": {}
      },
      "source": [
        "train['Quantitative Ability 1'] = pd.to_numeric(train['Quantitative Ability 1'])\n",
        "train['Domain Skills 1'] = pd.to_numeric(train['Domain Skills 1'])\n",
        "train['Analytical Skills 1'] = pd.to_numeric(train['Analytical Skills 1'])"
      ],
      "execution_count": 0,
      "outputs": []
    },
    {
      "cell_type": "code",
      "metadata": {
        "id": "2cWYqjDBUe0M",
        "colab_type": "code",
        "colab": {}
      },
      "source": [
        "train['Performance'].unique(), train['Quantitative Ability 1'].unique()"
      ],
      "execution_count": 0,
      "outputs": []
    },
    {
      "cell_type": "code",
      "metadata": {
        "id": "iIttxZXK1TdU",
        "colab_type": "code",
        "colab": {}
      },
      "source": [
        "train['Performance'].replace(to_replace=0.0, value = 'MD', inplace = True)"
      ],
      "execution_count": 0,
      "outputs": []
    },
    {
      "cell_type": "code",
      "metadata": {
        "id": "kQVSbdKg1aUr",
        "colab_type": "code",
        "colab": {}
      },
      "source": [
        "train['Performance'].unique()"
      ],
      "execution_count": 0,
      "outputs": []
    },
    {
      "cell_type": "code",
      "metadata": {
        "id": "0LkQg6E1Ui_T",
        "colab_type": "code",
        "colab": {}
      },
      "source": [
        "train.info()"
      ],
      "execution_count": 0,
      "outputs": []
    },
    {
      "cell_type": "markdown",
      "metadata": {
        "colab_type": "text",
        "id": "x3-_EQa5IjZ0"
      },
      "source": [
        "Checking and learning about the train set's skewness."
      ]
    },
    {
      "cell_type": "code",
      "metadata": {
        "colab_type": "code",
        "id": "l7JWJrekIjZ1",
        "colab": {}
      },
      "source": [
        "#checking the skewness of the train set\n",
        "train.skew(axis = 0, skipna = True)"
      ],
      "execution_count": 0,
      "outputs": []
    },
    {
      "cell_type": "markdown",
      "metadata": {
        "colab_type": "text",
        "id": "wogFfIpeIjZ2"
      },
      "source": [
        "Inference : some columns seems to be a lightly left-skewed. <br>\n",
        "They are : 10th percentage, English 4, Quantitative Ability 2, Quantitative Ability 3, Domain Skills 2, Domain Test 4, Analytical Skills 1, Analytical Skills 2 <br>\n",
        "These columns need to be later transformed."
      ]
    },
    {
      "cell_type": "markdown",
      "metadata": {
        "colab_type": "text",
        "id": "yYVQ_uJEIjZ4"
      },
      "source": [
        "Checking for Correlation"
      ]
    },
    {
      "cell_type": "code",
      "metadata": {
        "id": "MO33cDdv21X3",
        "colab_type": "code",
        "colab": {}
      },
      "source": [
        "# gives out the columns which are highly correlated amongst each other\n",
        "\n",
        "def correlation(train, threshold = 0.90):\n",
        "    corr_col = set() # Set of all the names of deleted columns\n",
        "    corr_m = train.corr()\n",
        "    for i in range(len(corr_m.columns)):\n",
        "        for j in range(i):\n",
        "            if (corr_m.iloc[i, j] >= threshold) and (corr_m.columns[j] not in corr_col):\n",
        "                col = corr_m.columns[i] # getting the name of column\n",
        "                corr_col.add(col)\n",
        "    return corr_col\n",
        "\n",
        "print(correlation(train,0.9))"
      ],
      "execution_count": 0,
      "outputs": []
    },
    {
      "cell_type": "markdown",
      "metadata": {
        "id": "z0X4GSIN4HBV",
        "colab_type": "text"
      },
      "source": [
        "Inference : There is no correlated columns"
      ]
    },
    {
      "cell_type": "code",
      "metadata": {
        "colab_type": "code",
        "id": "kvw4VSOpyEmr",
        "colab": {}
      },
      "source": [
        "train.columns"
      ],
      "execution_count": 0,
      "outputs": []
    },
    {
      "cell_type": "markdown",
      "metadata": {
        "colab_type": "text",
        "id": "t4GIAUOAIjaJ"
      },
      "source": [
        "# 3. Visualizations"
      ]
    },
    {
      "cell_type": "code",
      "metadata": {
        "colab_type": "code",
        "id": "EhmTh0jzIjaJ",
        "colab": {}
      },
      "source": [
        "#plotting pairwise relationships in train\n",
        "sns.pairplot(train)"
      ],
      "execution_count": 0,
      "outputs": []
    },
    {
      "cell_type": "code",
      "metadata": {
        "colab_type": "code",
        "id": "8dPq-7UxIjaK",
        "colab": {}
      },
      "source": [
        "# Distribution Plot and ‘Boxplot of payment_amount’ to learn about its distribution and also, to know about outliers if present.\n",
        "plt.figure(figsize=(8,6))\n",
        "\n",
        "plt.subplot(1,2,1)\n",
        "plt.title('English Marks Distribution Plot')\n",
        "sns.distplot(train['English 1'])\n",
        "\n",
        "plt.subplot(1,2,2)\n",
        "plt.title('English Marks Spread')\n",
        "sns.boxplot(y=train['English 1'])\n",
        "\n",
        "plt.show()\n",
        "plt.tight_layout()\n",
        "\n",
        "plt.figure(figsize=(8,6))\n",
        "\n",
        "plt.subplot(1,2,1)\n",
        "plt.title('Quantitative Ability Distribution Plot')\n",
        "sns.distplot(train['Quantitative Ability 1'])\n",
        "\n",
        "plt.subplot(1,2,2)\n",
        "plt.title('Quantitative Ability Spread')\n",
        "sns.boxplot(y=train['Quantitative Ability 1'])\n",
        "\n",
        "plt.show()\n",
        "plt.tight_layout()\n",
        "\n",
        "plt.figure(figsize=(8,6))\n",
        "\n",
        "plt.subplot(1,2,1)\n",
        "plt.title('Domain Skills Distribution Plot')\n",
        "sns.distplot(train['Domain Skills 1'])\n",
        "\n",
        "plt.subplot(1,2,2)\n",
        "plt.title('Domain Skills Spread')\n",
        "sns.boxplot(y=train['Domain Skills 1'])\n",
        "\n",
        "plt.show()\n",
        "plt.tight_layout()\n",
        "\n",
        "plt.figure(figsize=(8,6))\n",
        "\n",
        "plt.subplot(1,2,1)\n",
        "plt.title('Analytical Skills Distribution Plot')\n",
        "sns.distplot(train['Analytical Skills 1'])\n",
        "\n",
        "plt.subplot(1,2,2)\n",
        "plt.title('Analytical Skills Spread')\n",
        "sns.boxplot(y=train['Analytical Skills 1'])\n",
        "\n",
        "plt.show()\n",
        "plt.tight_layout()"
      ],
      "execution_count": 0,
      "outputs": []
    },
    {
      "cell_type": "code",
      "metadata": {
        "colab_type": "code",
        "id": "csCUUCe0IjaL",
        "colab": {}
      },
      "source": [
        "# Checking out the distribution of variables across different variables in train set.\n",
        "plt.figure(figsize=(25, 6))\n",
        "\n",
        "df = pd.DataFrame(train.groupby(['Performance'])['English 1'].mean().sort_values(ascending = False))\n",
        "df.plot.bar()\n",
        "plt.title('Performance vs English')\n",
        "plt.show()\n",
        "\n",
        "df = pd.DataFrame(train.groupby(['Performance'])['Quantitative Ability 1'].mean().sort_values(ascending = False))\n",
        "df.plot.bar()\n",
        "plt.title('Performance vs Quantitative Ability')\n",
        "plt.show()\n",
        "\n",
        "df = pd.DataFrame(train.groupby(['Performance'])['Domain Skills 1'].mean().sort_values(ascending = False))\n",
        "df.plot.bar()\n",
        "plt.title('Performance vs Domain Skills')\n",
        "plt.show() \n",
        "\n",
        "df = pd.DataFrame(train.groupby(['Performance'])['Analytical Skills 1'].mean().sort_values(ascending = False))\n",
        "df.plot.bar()\n",
        "plt.title('Performance vs Analytical Skills')\n",
        "plt.show()"
      ],
      "execution_count": 0,
      "outputs": []
    },
    {
      "cell_type": "code",
      "metadata": {
        "colab_type": "code",
        "id": "Nc4ixJivIjaM",
        "colab": {}
      },
      "source": [
        "train.columns"
      ],
      "execution_count": 0,
      "outputs": []
    },
    {
      "cell_type": "markdown",
      "metadata": {
        "colab_type": "text",
        "id": "RSUNWrGMIjaO"
      },
      "source": [
        "# 4.  Mapping Test and Train"
      ]
    },
    {
      "cell_type": "code",
      "metadata": {
        "colab_type": "code",
        "id": "e2IHOxL3IjaO",
        "colab": {}
      },
      "source": [
        "#copying the columns from train\n",
        "cols  = train.columns.to_list()\n",
        "cols"
      ],
      "execution_count": 0,
      "outputs": []
    },
    {
      "cell_type": "code",
      "metadata": {
        "colab_type": "code",
        "id": "Ihvo3eo_IjaP",
        "colab": {}
      },
      "source": [
        "print(test.shape , train.shape)"
      ],
      "execution_count": 0,
      "outputs": []
    },
    {
      "cell_type": "code",
      "metadata": {
        "colab_type": "code",
        "id": "67iIGXxJIjaP",
        "colab": {}
      },
      "source": [
        "#mapping the features\n",
        "test = test.reindex(columns=cols)\n",
        "test.shape"
      ],
      "execution_count": 0,
      "outputs": []
    },
    {
      "cell_type": "markdown",
      "metadata": {
        "colab_type": "text",
        "id": "DrcY9dxqIjaQ"
      },
      "source": [
        "# 5. Data Preprocessing"
      ]
    },
    {
      "cell_type": "code",
      "metadata": {
        "colab_type": "code",
        "id": "X2HPnoIyIjaQ",
        "colab": {}
      },
      "source": [
        "train.columns"
      ],
      "execution_count": 0,
      "outputs": []
    },
    {
      "cell_type": "markdown",
      "metadata": {
        "colab_type": "text",
        "id": "xGg2gyazIjaR"
      },
      "source": [
        "Encoding categorical variables"
      ]
    },
    {
      "cell_type": "code",
      "metadata": {
        "colab_type": "code",
        "id": "7Ynt8xo4IjaS",
        "colab": {}
      },
      "source": [
        "!pip install --upgrade category_encoders"
      ],
      "execution_count": 0,
      "outputs": []
    },
    {
      "cell_type": "code",
      "metadata": {
        "id": "hpe76GDOfUN2",
        "colab_type": "code",
        "colab": {}
      },
      "source": [
        "#encoding categorical data Gender\n",
        "from sklearn.preprocessing import LabelEncoder\n",
        "l = LabelEncoder()\n",
        "train.loc[:,'Gender'] = l.fit_transform(train.loc[:,'Gender'])\n",
        "# train.loc[:, '12th Completion year'] = l.fit_transform(train.loc[:, '12th Completion year'])\n",
        "# train.loc[:, '10th Completion Year'] = l.fit_transform(train.loc[:, '10th Completion Year'])"
      ],
      "execution_count": 0,
      "outputs": []
    },
    {
      "cell_type": "code",
      "metadata": {
        "id": "6qfokRjISkmh",
        "colab_type": "code",
        "colab": {}
      },
      "source": [
        "train.loc[:,'Performance']=l.fit_transform(train.loc[:,'Performance'])"
      ],
      "execution_count": 0,
      "outputs": []
    },
    {
      "cell_type": "code",
      "metadata": {
        "colab_type": "code",
        "id": "q6hzqje8IjaT",
        "colab": {}
      },
      "source": [
        "from category_encoders import TargetEncoder\n",
        "encoder = TargetEncoder()\n",
        "train['Specialization in study'] = encoder.fit_transform(train['Specialization in study'], train['Performance'])\n",
        "# train['10Y'] = encoder.fit_transform(train['10th Completion Year'], train['Performance'])\n",
        "# train['12Y'] = encoder.fit_transform(train['12th Completion year'], train['Performance'])"
      ],
      "execution_count": 0,
      "outputs": []
    },
    {
      "cell_type": "code",
      "metadata": {
        "id": "NomyNERLTUqE",
        "colab_type": "code",
        "colab": {}
      },
      "source": [
        "encoder = TargetEncoder()\n",
        "train['Year of Completion of college'] = encoder.fit_transform(train['Year of Completion of college'], train['Performance'])"
      ],
      "execution_count": 0,
      "outputs": []
    },
    {
      "cell_type": "code",
      "metadata": {
        "colab_type": "code",
        "id": "f27cRCKuTxLL",
        "colab": {}
      },
      "source": [
        "encoder = TargetEncoder()\n",
        "train['12th Completion year'] = encoder.fit_transform(train['12th Completion year'], train['Performance'])"
      ],
      "execution_count": 0,
      "outputs": []
    },
    {
      "cell_type": "code",
      "metadata": {
        "colab_type": "code",
        "id": "1oOotmgeTxRU",
        "colab": {}
      },
      "source": [
        "encoder = TargetEncoder()\n",
        "train['10th Completion Year'] = encoder.fit_transform(train['10th Completion Year'], train['Performance'])"
      ],
      "execution_count": 0,
      "outputs": []
    },
    {
      "cell_type": "code",
      "metadata": {
        "id": "3xR3rpNZ6e_K",
        "colab_type": "code",
        "colab": {}
      },
      "source": [
        "train.head(5)"
      ],
      "execution_count": 0,
      "outputs": []
    },
    {
      "cell_type": "code",
      "metadata": {
        "colab_type": "code",
        "id": "WflyGKP3IjaV",
        "colab": {}
      },
      "source": [
        "train.describe()"
      ],
      "execution_count": 0,
      "outputs": []
    },
    {
      "cell_type": "code",
      "metadata": {
        "colab_type": "code",
        "id": "AfuGVaQ5IjaW",
        "colab": {}
      },
      "source": [
        "#Correlation using heatmap\n",
        "plt.figure(figsize = (10, 10))\n",
        "hm = train.corr().where(np.tril(np.ones(train.corr().shape)).astype(np.bool))\n",
        "sns.heatmap(hm, annot = True, cmap=\"YlGnBu\")\n",
        "plt.show()"
      ],
      "execution_count": 0,
      "outputs": []
    },
    {
      "cell_type": "code",
      "metadata": {
        "id": "TMnQR1Yhzthz",
        "colab_type": "code",
        "colab": {}
      },
      "source": [
        "train.columns"
      ],
      "execution_count": 0,
      "outputs": []
    },
    {
      "cell_type": "markdown",
      "metadata": {
        "colab_type": "text",
        "id": "y_SnH-C0IjaW"
      },
      "source": [
        "Splitting train set into x and y i.e independent variable vector and dependent variable vector."
      ]
    },
    {
      "cell_type": "code",
      "metadata": {
        "colab_type": "code",
        "id": "WLdb3tAkIjaX",
        "colab": {}
      },
      "source": [
        "x = train.drop(['Performance'], axis = 1)\n",
        "y = train.loc[:,'Performance']"
      ],
      "execution_count": 0,
      "outputs": []
    },
    {
      "cell_type": "code",
      "metadata": {
        "colab_type": "code",
        "id": "FJL9O2MDIjaX",
        "colab": {}
      },
      "source": [
        "print(x.shape,y.shape)"
      ],
      "execution_count": 0,
      "outputs": []
    },
    {
      "cell_type": "code",
      "metadata": {
        "colab_type": "code",
        "id": "1m4zU_JrIjaY",
        "colab": {}
      },
      "source": [
        "y = y.values.reshape(-1,1)"
      ],
      "execution_count": 0,
      "outputs": []
    },
    {
      "cell_type": "code",
      "metadata": {
        "colab_type": "code",
        "id": "MNq1g_KiIjaZ",
        "colab": {}
      },
      "source": [
        "#plotting distribution plot of newly encoded variables\n",
        "plt.figure(figsize=(8,6))\n",
        "\n",
        "plt.subplot(1,2,1)\n",
        "sns.distplot(x['Year of Completion of college'])\n",
        "\n",
        "plt.subplot(1,2,2)\n",
        "sns.distplot(x['10th Completion Year'])\n",
        "\n",
        "plt.figure(figsize=(8,6))\n",
        "\n",
        "plt.subplot(1,2,1)\n",
        "sns.distplot(x['12th Completion year'])\n",
        "\n",
        "plt.subplot(1,2,2)\n",
        "sns.distplot(x['Specialization in study'])"
      ],
      "execution_count": 0,
      "outputs": []
    },
    {
      "cell_type": "markdown",
      "metadata": {
        "id": "lIKgSadxVhTQ",
        "colab_type": "text"
      },
      "source": [
        "Inference : It is highly skewed."
      ]
    },
    {
      "cell_type": "code",
      "metadata": {
        "colab_type": "code",
        "id": "KyWNQCTGVaaD",
        "colab": {}
      },
      "source": [
        "#checking the skewness of the train set\n",
        "x.skew(axis = 0, skipna = True)"
      ],
      "execution_count": 0,
      "outputs": []
    },
    {
      "cell_type": "markdown",
      "metadata": {
        "colab_type": "text",
        "id": "GDaVbRCgIjaZ"
      },
      "source": [
        "Reducing skewness of the features according to their skewness amount."
      ]
    },
    {
      "cell_type": "code",
      "metadata": {
        "colab_type": "code",
        "id": "LzpgJjU1IjaZ",
        "colab": {}
      },
      "source": [
        "#trying square-root and log transformations\n",
        "crim = np.log(x['Year of Completion of college'])\n",
        "crim_s = np.sqrt(x['Year of Completion of college'])\n",
        "print(crim.skew(),crim_s.skew())"
      ],
      "execution_count": 0,
      "outputs": []
    },
    {
      "cell_type": "code",
      "metadata": {
        "colab_type": "code",
        "id": "bcX-ll8vIjaa",
        "colab": {}
      },
      "source": [
        "#Observing the distribution plot of ‘Year of Completion of college’ after boxcox transformation.\n",
        "from scipy import stats\n",
        "crim_b = stats.boxcox(x['Year of Completion of college'])[0]\n",
        "pd.Series(crim_b).skew()\n",
        "sns.distplot(crim_b);"
      ],
      "execution_count": 0,
      "outputs": []
    },
    {
      "cell_type": "markdown",
      "metadata": {
        "id": "MV6I-tuHcNzW",
        "colab_type": "text"
      },
      "source": [
        "Boxcox will be the best transformation for 'Year of Completion of college'"
      ]
    },
    {
      "cell_type": "code",
      "metadata": {
        "colab_type": "code",
        "id": "CYt2QyhRIjab",
        "colab": {}
      },
      "source": [
        "x.skew()"
      ],
      "execution_count": 0,
      "outputs": []
    },
    {
      "cell_type": "code",
      "metadata": {
        "colab_type": "code",
        "id": "c0G9OFAvIjac",
        "colab": {}
      },
      "source": [
        "a = np.sqrt(x['12th Completion year'])                                          #square-root transformation \n",
        "b = np.log(x['12th Completion year'])                                           #logarithimic transformation\n",
        "print(a.skew(),b.skew())\n",
        "\n",
        "a = np.sqrt(x['10th Completion Year'])                                          #square-root transformation \n",
        "b = np.log(x['10th Completion Year'])                                           #logarithimic transformation\n",
        "print(a.skew(),b.skew())"
      ],
      "execution_count": 0,
      "outputs": []
    },
    {
      "cell_type": "code",
      "metadata": {
        "colab_type": "code",
        "id": "MHdfa4rCIjac",
        "colab": {}
      },
      "source": [
        "#Updating the required pandas series.\n",
        "a = pd.Series(stats.boxcox(x['10th Completion Year'])[0]) \n",
        "b = pd.Series(stats.boxcox(x['12th Completion year'])[0])\n",
        "c = pd.Series(stats.boxcox(x['Specialization in study'])[0])  \n",
        "d = pd.Series(stats.boxcox(x['Year of Completion of college'])[0])\n",
        "print(a.skew(), b.skew(), c.skew(), d.skew())"
      ],
      "execution_count": 0,
      "outputs": []
    },
    {
      "cell_type": "code",
      "metadata": {
        "colab_type": "code",
        "id": "tgyAtwtHIjad",
        "colab": {}
      },
      "source": [
        "x['10th Completion Year'] = a\n",
        "x['12th Completion year'] = b\n",
        "x['Specialization in study'] = c\n",
        "x['Year of Completion of college'] = d"
      ],
      "execution_count": 0,
      "outputs": []
    },
    {
      "cell_type": "code",
      "metadata": {
        "id": "k4MMLJsub1qP",
        "colab_type": "code",
        "colab": {}
      },
      "source": [
        "x.skew()"
      ],
      "execution_count": 0,
      "outputs": []
    },
    {
      "cell_type": "code",
      "metadata": {
        "colab_type": "code",
        "id": "uS9zahNRIjae",
        "colab": {}
      },
      "source": [
        "x.head(1)"
      ],
      "execution_count": 0,
      "outputs": []
    },
    {
      "cell_type": "code",
      "metadata": {
        "colab_type": "code",
        "id": "_Zvx6cWaIjam",
        "colab": {}
      },
      "source": [
        "x.shape"
      ],
      "execution_count": 0,
      "outputs": []
    },
    {
      "cell_type": "code",
      "metadata": {
        "colab_type": "code",
        "id": "gx50pUc9Ijan",
        "colab": {}
      },
      "source": [
        "x['12th Completion year'].describe()"
      ],
      "execution_count": 0,
      "outputs": []
    },
    {
      "cell_type": "markdown",
      "metadata": {
        "colab_type": "text",
        "id": "yupaiGfYIjap"
      },
      "source": [
        "Standard Scaling all the features to come under a common range."
      ]
    },
    {
      "cell_type": "code",
      "metadata": {
        "colab_type": "code",
        "id": "Mh4ZkFaQIjap",
        "colab": {}
      },
      "source": [
        "from sklearn.preprocessing import StandardScaler\n",
        "sc= StandardScaler()\n",
        "x = sc.fit_transform(x)"
      ],
      "execution_count": 0,
      "outputs": []
    },
    {
      "cell_type": "code",
      "metadata": {
        "colab_type": "code",
        "id": "6rDGYsH5Ijaq",
        "colab": {}
      },
      "source": [
        "x"
      ],
      "execution_count": 0,
      "outputs": []
    },
    {
      "cell_type": "code",
      "metadata": {
        "colab_type": "code",
        "id": "x6Y81NDvIjar",
        "colab": {}
      },
      "source": [
        "y"
      ],
      "execution_count": 0,
      "outputs": []
    },
    {
      "cell_type": "markdown",
      "metadata": {
        "colab_type": "text",
        "id": "oHC_vkk8Ijas"
      },
      "source": [
        "# 6. Splitting Train into x_train/y_train "
      ]
    },
    {
      "cell_type": "code",
      "metadata": {
        "id": "NdvokqCynLaL",
        "colab_type": "code",
        "colab": {}
      },
      "source": [
        "y.shape"
      ],
      "execution_count": 0,
      "outputs": []
    },
    {
      "cell_type": "code",
      "metadata": {
        "colab_type": "code",
        "id": "DvoefmDkIjas",
        "colab": {}
      },
      "source": [
        "from sklearn.model_selection import train_test_split\n",
        "x_train, x_test, y_train, y_test = train_test_split(x, y, test_size = 0.25)"
      ],
      "execution_count": 0,
      "outputs": []
    },
    {
      "cell_type": "code",
      "metadata": {
        "colab_type": "code",
        "id": "NppjVrXpIjat",
        "colab": {}
      },
      "source": [
        "print(x_train.shape,y_train.shape)"
      ],
      "execution_count": 0,
      "outputs": []
    },
    {
      "cell_type": "code",
      "metadata": {
        "colab_type": "code",
        "id": "VpWH3RH9Ijat",
        "colab": {}
      },
      "source": [
        "print(x_test.shape,y_test.shape)"
      ],
      "execution_count": 0,
      "outputs": []
    },
    {
      "cell_type": "markdown",
      "metadata": {
        "colab_type": "text",
        "id": "5_5eu-zZIjau"
      },
      "source": [
        "#7. Now, Model Testing!"
      ]
    },
    {
      "cell_type": "markdown",
      "metadata": {
        "colab_type": "text",
        "id": "ojQj8NWVIjau"
      },
      "source": [
        "**1. Logistic Regression**"
      ]
    },
    {
      "cell_type": "code",
      "metadata": {
        "colab_type": "code",
        "id": "nR58bQIWIjau",
        "colab": {}
      },
      "source": [
        "# fitting simple linear regression to the training set\n",
        "from sklearn.linear_model import LogisticRegression\n",
        "classifier = LogisticRegression(random_state=0)\n",
        "classifier.fit(x_train, y_train)"
      ],
      "execution_count": 0,
      "outputs": []
    },
    {
      "cell_type": "code",
      "metadata": {
        "colab_type": "code",
        "id": "j86KN2kiSCfw",
        "colab": {}
      },
      "source": [
        "# predicting the test set results\n",
        "y_pred=classifier.predict(x_test)"
      ],
      "execution_count": 0,
      "outputs": []
    },
    {
      "cell_type": "markdown",
      "metadata": {
        "id": "-xEECPYGgT_4",
        "colab_type": "text"
      },
      "source": [
        "Checking Accuracies"
      ]
    },
    {
      "cell_type": "code",
      "metadata": {
        "colab_type": "code",
        "id": "RhO8K5LbSCfy",
        "colab": {}
      },
      "source": [
        "from sklearn.metrics import confusion_matrix, classification_report\n",
        "\n",
        "cm=confusion_matrix(y_test, y_pred)\n",
        "plt.figure(figsize = (5,5))\n",
        "sns.heatmap(cm, annot=True)\n",
        "plt.xlabel('Predicted')\n",
        "plt.ylabel('Truth')"
      ],
      "execution_count": 0,
      "outputs": []
    },
    {
      "cell_type": "code",
      "metadata": {
        "id": "FPVzN0GMjcNZ",
        "colab_type": "code",
        "colab": {}
      },
      "source": [
        "print(classification_report(y_test, y_pred))"
      ],
      "execution_count": 0,
      "outputs": []
    },
    {
      "cell_type": "code",
      "metadata": {
        "colab_type": "code",
        "id": "NUrz_GT6Yjdq",
        "colab": {}
      },
      "source": [
        "#applying k-fold cross validation\n",
        "from sklearn.model_selection import cross_val_score as cvs\n",
        "accuracies = cvs(estimator=classifier,X=x_train,y=y_train,cv=10)\n",
        "print(accuracies.mean())\n",
        "print(accuracies.std())"
      ],
      "execution_count": 0,
      "outputs": []
    },
    {
      "cell_type": "markdown",
      "metadata": {
        "colab_type": "text",
        "id": "GzFEKzNQkmw_"
      },
      "source": [
        "**2. Random Forest**"
      ]
    },
    {
      "cell_type": "code",
      "metadata": {
        "colab_type": "code",
        "id": "jJWyjA-ikmxB",
        "colab": {}
      },
      "source": [
        "#fitting random forest classifier to the training set\n",
        "from sklearn.ensemble import RandomForestClassifier as rfc\n",
        "classifier = rfc(n_estimators=100,criterion='entropy',random_state=0)\n",
        "classifier.fit(x_train, y_train)"
      ],
      "execution_count": 0,
      "outputs": []
    },
    {
      "cell_type": "code",
      "metadata": {
        "colab_type": "code",
        "id": "_j5JOYXJpNgv",
        "colab": {}
      },
      "source": [
        "#predicting the test set results\n",
        "y_pred=classifier.predict(x_test)"
      ],
      "execution_count": 0,
      "outputs": []
    },
    {
      "cell_type": "markdown",
      "metadata": {
        "colab_type": "text",
        "id": "LWU0cg5RkmxC"
      },
      "source": [
        "Checking Accuracies"
      ]
    },
    {
      "cell_type": "code",
      "metadata": {
        "colab_type": "code",
        "id": "pCnklzoZkmxD",
        "colab": {}
      },
      "source": [
        "classifier.score(x_test, y_test)"
      ],
      "execution_count": 0,
      "outputs": []
    },
    {
      "cell_type": "code",
      "metadata": {
        "colab_type": "code",
        "id": "hWcw1CCKkmxF",
        "colab": {}
      },
      "source": [
        "from sklearn.metrics import confusion_matrix, classification_report\n",
        "\n",
        "cm=confusion_matrix(y_test, y_pred)\n",
        "plt.figure(figsize = (5,5))\n",
        "sns.heatmap(cm, annot=True)\n",
        "plt.xlabel('Predicted')\n",
        "plt.ylabel('Truth')"
      ],
      "execution_count": 0,
      "outputs": []
    },
    {
      "cell_type": "code",
      "metadata": {
        "colab_type": "code",
        "id": "KXBkFlWDkmxK",
        "colab": {}
      },
      "source": [
        "print(classification_report(y_test, y_pred))"
      ],
      "execution_count": 0,
      "outputs": []
    },
    {
      "cell_type": "code",
      "metadata": {
        "colab_type": "code",
        "id": "QQr6JMLukmxO",
        "colab": {}
      },
      "source": [
        "#applying k-fold cross validation\n",
        "from sklearn.model_selection import cross_val_score as cvs\n",
        "accuracies = cvs(estimator=classifier,X=x_train,y=y_train,cv=10)\n",
        "print(accuracies.mean())\n",
        "print(accuracies.std())"
      ],
      "execution_count": 0,
      "outputs": []
    },
    {
      "cell_type": "markdown",
      "metadata": {
        "colab_type": "text",
        "id": "Lv7eOVZFpldL"
      },
      "source": [
        "**3. Kernel - SVM**"
      ]
    },
    {
      "cell_type": "code",
      "metadata": {
        "colab_type": "code",
        "id": "vcA9hLg8pldM",
        "colab": {}
      },
      "source": [
        "#fitting kernel SVM to the training set\n",
        "from sklearn.svm import SVC\n",
        "classifier = SVC(kernel='rbf', random_state=0)\n",
        "classifier.fit(x_train, y_train)"
      ],
      "execution_count": 0,
      "outputs": []
    },
    {
      "cell_type": "code",
      "metadata": {
        "colab_type": "code",
        "id": "iGGEmqS0pldN",
        "colab": {}
      },
      "source": [
        "#predicting the test set results\n",
        "y_pred=classifier.predict(x_test)"
      ],
      "execution_count": 0,
      "outputs": []
    },
    {
      "cell_type": "markdown",
      "metadata": {
        "colab_type": "text",
        "id": "Lk1H1kNspldR"
      },
      "source": [
        "Checking Accuracies"
      ]
    },
    {
      "cell_type": "code",
      "metadata": {
        "colab_type": "code",
        "id": "TNwIfxn9pldR",
        "colab": {}
      },
      "source": [
        "from sklearn.metrics import confusion_matrix, classification_report\n",
        "\n",
        "cm=confusion_matrix(y_test, y_pred)\n",
        "plt.figure(figsize = (5,5))\n",
        "sns.heatmap(cm, annot=True)\n",
        "plt.xlabel('Predicted')\n",
        "plt.ylabel('Truth')"
      ],
      "execution_count": 0,
      "outputs": []
    },
    {
      "cell_type": "code",
      "metadata": {
        "colab_type": "code",
        "id": "KBxh_yLipldU",
        "colab": {}
      },
      "source": [
        "print(classification_report(y_test, y_pred))"
      ],
      "execution_count": 0,
      "outputs": []
    },
    {
      "cell_type": "code",
      "metadata": {
        "colab_type": "code",
        "id": "A3d4HegxpldX",
        "colab": {}
      },
      "source": [
        "#applying k-fold cross validation\n",
        "from sklearn.model_selection import cross_val_score as cvs\n",
        "accuracies = cvs(estimator=classifier,X=x_train,y=y_train,cv=10)\n",
        "print(accuracies.mean())\n",
        "print(accuracies.std())"
      ],
      "execution_count": 0,
      "outputs": []
    },
    {
      "cell_type": "markdown",
      "metadata": {
        "colab_type": "text",
        "id": "vVNB972jqJez"
      },
      "source": [
        "**4. Linear - SVM**"
      ]
    },
    {
      "cell_type": "code",
      "metadata": {
        "colab_type": "code",
        "id": "qyv_nvg5qKCD",
        "colab": {}
      },
      "source": [
        "# fitting kernel SVM to the training set\n",
        "from sklearn.svm import SVC\n",
        "classifier = SVC(kernel='linear', random_state=0)\n",
        "classifier.fit(x_train, y_train)"
      ],
      "execution_count": 0,
      "outputs": []
    },
    {
      "cell_type": "code",
      "metadata": {
        "colab_type": "code",
        "id": "BPnFj_ptqKCE",
        "colab": {}
      },
      "source": [
        "#predicting the test set results\n",
        "y_pred=classifier.predict(x_test)"
      ],
      "execution_count": 0,
      "outputs": []
    },
    {
      "cell_type": "markdown",
      "metadata": {
        "colab_type": "text",
        "id": "Tu4JBCKCqKCG"
      },
      "source": [
        "Checking Accuracies"
      ]
    },
    {
      "cell_type": "code",
      "metadata": {
        "colab_type": "code",
        "id": "cQh-nVWLqKCG",
        "colab": {}
      },
      "source": [
        "from sklearn.metrics import confusion_matrix, classification_report\n",
        "\n",
        "cm=confusion_matrix(y_test, y_pred)\n",
        "plt.figure(figsize = (5,5))\n",
        "sns.heatmap(cm, annot=True)\n",
        "plt.xlabel('Predicted')\n",
        "plt.ylabel('Truth')"
      ],
      "execution_count": 0,
      "outputs": []
    },
    {
      "cell_type": "code",
      "metadata": {
        "colab_type": "code",
        "id": "flNGrZkGqKCI",
        "colab": {}
      },
      "source": [
        "print(classification_report(y_test, y_pred))"
      ],
      "execution_count": 0,
      "outputs": []
    },
    {
      "cell_type": "code",
      "metadata": {
        "colab_type": "code",
        "id": "jNDZHrVmqKCK",
        "colab": {}
      },
      "source": [
        "#applying k-fold cross validation\n",
        "from sklearn.model_selection import cross_val_score as cvs\n",
        "accuracies = cvs(estimator=classifier,X=x_train,y=y_train,cv=10)\n",
        "print(accuracies.mean())\n",
        "print(accuracies.std())"
      ],
      "execution_count": 0,
      "outputs": []
    },
    {
      "cell_type": "markdown",
      "metadata": {
        "colab_type": "text",
        "id": "a-OIVjqqqJtd"
      },
      "source": [
        "**5. K-NN**"
      ]
    },
    {
      "cell_type": "code",
      "metadata": {
        "colab_type": "code",
        "id": "P9YbA9F2qJte",
        "colab": {}
      },
      "source": [
        "#fitting knn to the training set\n",
        "from sklearn.neighbors import KNeighborsClassifier as knc\n",
        "classifier=knc(n_neighbors=10,metric='minkowski', p = 2)\n",
        "classifier.fit(x_train, y_train)"
      ],
      "execution_count": 0,
      "outputs": []
    },
    {
      "cell_type": "code",
      "metadata": {
        "colab_type": "code",
        "id": "kzXoK6TkqJtf",
        "colab": {}
      },
      "source": [
        "#predicting the test set results\n",
        "y_pred=classifier.predict(x_test)"
      ],
      "execution_count": 0,
      "outputs": []
    },
    {
      "cell_type": "markdown",
      "metadata": {
        "colab_type": "text",
        "id": "qwffZTkZqJtg"
      },
      "source": [
        "Checking Accuracies"
      ]
    },
    {
      "cell_type": "code",
      "metadata": {
        "colab_type": "code",
        "id": "OtzUfJ4aqJtg",
        "colab": {}
      },
      "source": [
        "from sklearn.metrics import confusion_matrix, classification_report\n",
        "\n",
        "cm=confusion_matrix(y_test, y_pred)\n",
        "plt.figure(figsize = (5,5))\n",
        "sns.heatmap(cm, annot=True)\n",
        "plt.xlabel('Predicted')\n",
        "plt.ylabel('Truth')"
      ],
      "execution_count": 0,
      "outputs": []
    },
    {
      "cell_type": "code",
      "metadata": {
        "colab_type": "code",
        "id": "iTcx2WA9qJti",
        "colab": {}
      },
      "source": [
        "print(classification_report(y_test, y_pred))"
      ],
      "execution_count": 0,
      "outputs": []
    },
    {
      "cell_type": "code",
      "metadata": {
        "colab_type": "code",
        "id": "qHDJG2-HqJtk",
        "colab": {}
      },
      "source": [
        "#applying k-fold cross validation\n",
        "from sklearn.model_selection import cross_val_score as cvs\n",
        "accuracies = cvs(estimator=classifier,X=x_train,y=y_train,cv=10)\n",
        "print(accuracies.mean())\n",
        "print(accuracies.std())"
      ],
      "execution_count": 0,
      "outputs": []
    },
    {
      "cell_type": "markdown",
      "metadata": {
        "colab_type": "text",
        "id": "YR3IiUvEqKCC"
      },
      "source": [
        "**6. Decision Tree**"
      ]
    },
    {
      "cell_type": "code",
      "metadata": {
        "colab_type": "code",
        "id": "SUAluYI2qJe0",
        "colab": {}
      },
      "source": [
        "#fitting decision tree classifier to the training set\n",
        "from sklearn.tree import DecisionTreeClassifier as dtc\n",
        "classifier = dtc(criterion='entropy' , random_state=0)\n",
        "classifier.fit(x_train, y_train)"
      ],
      "execution_count": 0,
      "outputs": []
    },
    {
      "cell_type": "code",
      "metadata": {
        "colab_type": "code",
        "id": "SZmJSmWnqJe6",
        "colab": {}
      },
      "source": [
        "#predicting the test set results\n",
        "y_pred=classifier.predict(x_test)"
      ],
      "execution_count": 0,
      "outputs": []
    },
    {
      "cell_type": "markdown",
      "metadata": {
        "colab_type": "text",
        "id": "3QpF3xYKqJe8"
      },
      "source": [
        "Checking Accuracies"
      ]
    },
    {
      "cell_type": "code",
      "metadata": {
        "colab_type": "code",
        "id": "RKs-uwlXqJe8",
        "colab": {}
      },
      "source": [
        "from sklearn.metrics import confusion_matrix, classification_report\n",
        "\n",
        "cm=confusion_matrix(y_test, y_pred)\n",
        "plt.figure(figsize = (5,5))\n",
        "sns.heatmap(cm, annot=True)\n",
        "plt.xlabel('Predicted')\n",
        "plt.ylabel('Truth')"
      ],
      "execution_count": 0,
      "outputs": []
    },
    {
      "cell_type": "code",
      "metadata": {
        "colab_type": "code",
        "id": "Syc4YY4hqJe-",
        "colab": {}
      },
      "source": [
        "print(classification_report(y_test, y_pred))"
      ],
      "execution_count": 0,
      "outputs": []
    },
    {
      "cell_type": "code",
      "metadata": {
        "colab_type": "code",
        "id": "pzd1R0k0qJfA",
        "colab": {}
      },
      "source": [
        "#applying k-fold cross validation\n",
        "from sklearn.model_selection import cross_val_score as cvs\n",
        "accuracies = cvs(estimator=classifier,X=x_train,y=y_train,cv=10)\n",
        "print(accuracies.mean())\n",
        "print(accuracies.std())"
      ],
      "execution_count": 0,
      "outputs": []
    },
    {
      "cell_type": "markdown",
      "metadata": {
        "colab_type": "text",
        "id": "UrSGd67DrgEK"
      },
      "source": [
        "**7. Naive Bayes**"
      ]
    },
    {
      "cell_type": "code",
      "metadata": {
        "colab_type": "code",
        "id": "_0nk7euMrgEL",
        "colab": {}
      },
      "source": [
        "#fitting naive bayes to the training set\n",
        "from sklearn.naive_bayes import GaussianNB\n",
        "classifier = GaussianNB()\n",
        "classifier.fit(x_train, y_train)"
      ],
      "execution_count": 0,
      "outputs": []
    },
    {
      "cell_type": "code",
      "metadata": {
        "colab_type": "code",
        "id": "vAq6XGmqrgEM",
        "colab": {}
      },
      "source": [
        "#predicting the test set results\n",
        "y_pred=classifier.predict(x_test)"
      ],
      "execution_count": 0,
      "outputs": []
    },
    {
      "cell_type": "markdown",
      "metadata": {
        "colab_type": "text",
        "id": "0CkWQEDfrgEP"
      },
      "source": [
        "Checking Accuracies"
      ]
    },
    {
      "cell_type": "code",
      "metadata": {
        "colab_type": "code",
        "id": "cZYPyK3VrgEP",
        "colab": {}
      },
      "source": [
        "from sklearn.metrics import confusion_matrix, classification_report\n",
        "\n",
        "cm=confusion_matrix(y_test, y_pred)\n",
        "plt.figure(figsize = (5,5))\n",
        "sns.heatmap(cm, annot=True)\n",
        "plt.xlabel('Predicted')\n",
        "plt.ylabel('Truth')"
      ],
      "execution_count": 0,
      "outputs": []
    },
    {
      "cell_type": "code",
      "metadata": {
        "colab_type": "code",
        "id": "Euv8VFXxrgER",
        "colab": {}
      },
      "source": [
        "print(classification_report(y_test, y_pred))"
      ],
      "execution_count": 0,
      "outputs": []
    },
    {
      "cell_type": "code",
      "metadata": {
        "colab_type": "code",
        "id": "xNbEdu2ergEU",
        "colab": {}
      },
      "source": [
        "#applying k-fold cross validation\n",
        "from sklearn.model_selection import cross_val_score as cvs\n",
        "accuracies = cvs(estimator=classifier,X=x_train,y=y_train,cv=10)\n",
        "print(accuracies.mean())\n",
        "print(accuracies.std())"
      ],
      "execution_count": 0,
      "outputs": []
    },
    {
      "cell_type": "markdown",
      "metadata": {
        "colab_type": "text",
        "id": "hzJFtHsZsUyb"
      },
      "source": [
        "**8. XGBoost Classifier**"
      ]
    },
    {
      "cell_type": "code",
      "metadata": {
        "colab_type": "code",
        "id": "mgZ61NhmsUyc",
        "colab": {}
      },
      "source": [
        "#fitting XGBoost to the Training Set\n",
        "from xgboost import XGBClassifier\n",
        "classifier=XGBClassifier()\n",
        "classifier.fit(x_train,y_train)"
      ],
      "execution_count": 0,
      "outputs": []
    },
    {
      "cell_type": "code",
      "metadata": {
        "colab_type": "code",
        "id": "rp0VUMK-sUyi",
        "colab": {}
      },
      "source": [
        "#predicting the test set results\n",
        "y_pred=classifier.predict(x_test)"
      ],
      "execution_count": 0,
      "outputs": []
    },
    {
      "cell_type": "markdown",
      "metadata": {
        "colab_type": "text",
        "id": "SuMgmVuksUyk"
      },
      "source": [
        "Checking Accuracies"
      ]
    },
    {
      "cell_type": "code",
      "metadata": {
        "colab_type": "code",
        "id": "amoRMRDSsUyk",
        "colab": {}
      },
      "source": [
        "from sklearn.metrics import confusion_matrix, classification_report\n",
        "\n",
        "cm=confusion_matrix(y_test, y_pred)\n",
        "plt.figure(figsize = (5,5))\n",
        "sns.heatmap(cm, annot=True)\n",
        "plt.xlabel('Predicted')\n",
        "plt.ylabel('Truth')"
      ],
      "execution_count": 0,
      "outputs": []
    },
    {
      "cell_type": "code",
      "metadata": {
        "colab_type": "code",
        "id": "2_fNRIA7sUyo",
        "colab": {}
      },
      "source": [
        "print(classification_report(y_test, y_pred))"
      ],
      "execution_count": 0,
      "outputs": []
    },
    {
      "cell_type": "code",
      "metadata": {
        "colab_type": "code",
        "id": "nly8fw_KsUyr",
        "colab": {}
      },
      "source": [
        "#applying k-fold cross validation\n",
        "from sklearn.model_selection import cross_val_score as cvs\n",
        "accuracies = cvs(estimator=classifier,X=x_train,y=y_train,cv=10)\n",
        "print(accuracies.mean())\n",
        "print(accuracies.std())"
      ],
      "execution_count": 0,
      "outputs": []
    },
    {
      "cell_type": "markdown",
      "metadata": {
        "colab_type": "text",
        "id": "GKnpiryhu-F2"
      },
      "source": [
        "**9. GradientBoosting Classifier**"
      ]
    },
    {
      "cell_type": "code",
      "metadata": {
        "colab_type": "code",
        "id": "UZek8h6Su-F2",
        "colab": {}
      },
      "source": [
        "#fitting XGBoost to the Training Set\n",
        "from sklearn.ensemble import GradientBoostingClassifier\n",
        "classifier = GradientBoostingClassifier(n_estimators=100, learning_rate=1.0, max_depth=1)\n",
        "classifier.fit(x_train, y_train)"
      ],
      "execution_count": 0,
      "outputs": []
    },
    {
      "cell_type": "code",
      "metadata": {
        "colab_type": "code",
        "id": "mrttc1IRu-F4",
        "colab": {}
      },
      "source": [
        "#predicting the test set results\n",
        "y_pred=classifier.predict(x_test)"
      ],
      "execution_count": 0,
      "outputs": []
    },
    {
      "cell_type": "markdown",
      "metadata": {
        "colab_type": "text",
        "id": "A-ltyB2Qu-F7"
      },
      "source": [
        "Checking Accuracies"
      ]
    },
    {
      "cell_type": "code",
      "metadata": {
        "colab_type": "code",
        "id": "_PJxZHTeu-F8",
        "colab": {}
      },
      "source": [
        "from sklearn.metrics import confusion_matrix, classification_report\n",
        "\n",
        "cm=confusion_matrix(y_test, y_pred)\n",
        "plt.figure(figsize = (5,5))\n",
        "sns.heatmap(cm, annot=True)\n",
        "plt.xlabel('Predicted')\n",
        "plt.ylabel('Truth')"
      ],
      "execution_count": 0,
      "outputs": []
    },
    {
      "cell_type": "code",
      "metadata": {
        "colab_type": "code",
        "id": "y0a8X3vAu-F9",
        "colab": {}
      },
      "source": [
        "print(classification_report(y_test, y_pred))"
      ],
      "execution_count": 0,
      "outputs": []
    },
    {
      "cell_type": "code",
      "metadata": {
        "colab_type": "code",
        "id": "P8OLxso9u-F_",
        "colab": {}
      },
      "source": [
        "#applying k-fold cross validation\n",
        "from sklearn.model_selection import cross_val_score as cvs\n",
        "accuracies = cvs(estimator=classifier,X=x_train,y=y_train,cv=10)\n",
        "print(accuracies.mean())\n",
        "print(accuracies.std())"
      ],
      "execution_count": 0,
      "outputs": []
    },
    {
      "cell_type": "markdown",
      "metadata": {
        "colab_type": "text",
        "id": "1zNRqf29vA4U"
      },
      "source": [
        "**10. AdaBoost Classifier**"
      ]
    },
    {
      "cell_type": "code",
      "metadata": {
        "colab_type": "code",
        "id": "8Lovw1dcvA4V",
        "colab": {}
      },
      "source": [
        "#fitting XGBoost to the Training Set\n",
        "from sklearn.ensemble import AdaBoostClassifier\n",
        "dt = dtc()\n",
        "classifier = AdaBoostClassifier(n_estimators = 100, base_estimator = dt, learning_rate = 1)\n",
        "classifier.fit(x_train,y_train)"
      ],
      "execution_count": 0,
      "outputs": []
    },
    {
      "cell_type": "code",
      "metadata": {
        "colab_type": "code",
        "id": "NuV0xAWYvA4X",
        "colab": {}
      },
      "source": [
        "#predicting the test set results\n",
        "y_pred=classifier.predict(x_test)"
      ],
      "execution_count": 0,
      "outputs": []
    },
    {
      "cell_type": "markdown",
      "metadata": {
        "colab_type": "text",
        "id": "p2wBVObmvA4Y"
      },
      "source": [
        "Checking Accuracies"
      ]
    },
    {
      "cell_type": "code",
      "metadata": {
        "colab_type": "code",
        "id": "Rv6s4RBvvA4Y",
        "colab": {}
      },
      "source": [
        "from sklearn.metrics import confusion_matrix, classification_report\n",
        "\n",
        "cm=confusion_matrix(y_test, y_pred)\n",
        "plt.figure(figsize = (5,5))\n",
        "sns.heatmap(cm, annot=True)\n",
        "plt.xlabel('Predicted')\n",
        "plt.ylabel('Truth')"
      ],
      "execution_count": 0,
      "outputs": []
    },
    {
      "cell_type": "code",
      "metadata": {
        "colab_type": "code",
        "id": "qCSxXgy3vA4c",
        "colab": {}
      },
      "source": [
        "print(classification_report(y_test, y_pred))"
      ],
      "execution_count": 0,
      "outputs": []
    },
    {
      "cell_type": "code",
      "metadata": {
        "colab_type": "code",
        "id": "Hq1wipf3vA4e",
        "colab": {}
      },
      "source": [
        "#applying k-fold cross validation\n",
        "from sklearn.model_selection import cross_val_score as cvs\n",
        "accuracies = cvs(estimator=classifier,X=x_train,y=y_train,cv=10)\n",
        "print(accuracies.mean())\n",
        "print(accuracies.std())"
      ],
      "execution_count": 0,
      "outputs": []
    },
    {
      "cell_type": "markdown",
      "metadata": {
        "colab_type": "text",
        "id": "7ORgTR_wxF25"
      },
      "source": [
        "**11. CatBoost Classifier**"
      ]
    },
    {
      "cell_type": "code",
      "metadata": {
        "id": "VATZrvaLxKuo",
        "colab_type": "code",
        "colab": {}
      },
      "source": [
        "!pip install catboost"
      ],
      "execution_count": 0,
      "outputs": []
    },
    {
      "cell_type": "code",
      "metadata": {
        "colab_type": "code",
        "id": "VmQcpYovxF26",
        "colab": {}
      },
      "source": [
        "#fitting CatBoost to the Training Set\n",
        "from catboost import CatBoostClassifier\n",
        "classifier = CatBoostClassifier(iterations=100, learning_rate=0.01)\n",
        "classifier.fit(x_train,y_train, eval_set = (x_test, y_test))"
      ],
      "execution_count": 0,
      "outputs": []
    },
    {
      "cell_type": "code",
      "metadata": {
        "colab_type": "code",
        "id": "Z9dpYysixF2-",
        "colab": {}
      },
      "source": [
        "#predicting the test set results\n",
        "y_pred=classifier.predict(x_test)"
      ],
      "execution_count": 0,
      "outputs": []
    },
    {
      "cell_type": "markdown",
      "metadata": {
        "colab_type": "text",
        "id": "DJFEn_uPxF3A"
      },
      "source": [
        "Checking Accuracies"
      ]
    },
    {
      "cell_type": "code",
      "metadata": {
        "colab_type": "code",
        "id": "KtKGYjDPxF3A",
        "colab": {}
      },
      "source": [
        "from sklearn.metrics import confusion_matrix, classification_report\n",
        "\n",
        "cm=confusion_matrix(y_test, y_pred)\n",
        "plt.figure(figsize = (5,5))\n",
        "sns.heatmap(cm, annot=True)\n",
        "plt.xlabel('Predicted')\n",
        "plt.ylabel('Truth')"
      ],
      "execution_count": 0,
      "outputs": []
    },
    {
      "cell_type": "code",
      "metadata": {
        "colab_type": "code",
        "id": "Q3GS2R7pxF3D",
        "colab": {}
      },
      "source": [
        "print(classification_report(y_test, y_pred))"
      ],
      "execution_count": 0,
      "outputs": []
    },
    {
      "cell_type": "code",
      "metadata": {
        "colab_type": "code",
        "id": "bo_znuiOxF3F",
        "colab": {}
      },
      "source": [
        "#applying k-fold cross validation\n",
        "from sklearn.model_selection import cross_val_score as cvs\n",
        "accuracies = cvs(estimator=classifier,X=x_train,y=y_train,cv=10)\n",
        "print(accuracies.mean())\n",
        "print(accuracies.std())"
      ],
      "execution_count": 0,
      "outputs": []
    },
    {
      "cell_type": "markdown",
      "metadata": {
        "colab_type": "text",
        "id": "eDoNlbY3IjbD"
      },
      "source": [
        "**12. Light GBM**"
      ]
    },
    {
      "cell_type": "code",
      "metadata": {
        "colab_type": "code",
        "id": "rbooI6RhIjbD",
        "colab": {}
      },
      "source": [
        "!pip install lightgbm"
      ],
      "execution_count": 0,
      "outputs": []
    },
    {
      "cell_type": "code",
      "metadata": {
        "colab_type": "code",
        "id": "WpOPh3A1IjbE",
        "colab": {}
      },
      "source": [
        "import lightgbm as lgbm\n",
        "# from sklearn import preprocessing"
      ],
      "execution_count": 0,
      "outputs": []
    },
    {
      "cell_type": "code",
      "metadata": {
        "colab_type": "code",
        "id": "veOuOZS7IjbG",
        "colab": {}
      },
      "source": [
        "# kfold = KFold(n_splits=5, random_state = 0, shuffle = True)\n",
        "\n",
        "model_lgb = lgbm.LGBMClassifier(n_iterations =50, silent = False)\n",
        "model_lgb.fit(x_train, y_train)\n",
        "model_lgb.score(x_test, y_test)"
      ],
      "execution_count": 0,
      "outputs": []
    },
    {
      "cell_type": "markdown",
      "metadata": {
        "id": "wTSSaAezfgUF",
        "colab_type": "text"
      },
      "source": [
        "Therefore, the accuracies are - <br>\n",
        "logistic regression 0.67 <br>\n",
        "random forest 0.68 <br>\n",
        "kernel svm 0.69 <br>\n",
        "linear svm 0.71 <br>\n",
        "knn 0.67 <br>\n",
        "decision tree 0.50 <br>\n",
        "naive bayes 0.43 <br>\n",
        "xgboost 0.66 <br>\n",
        "gradient boosting 0.60 <br>\n",
        "adaboost 0.50 <br>\n",
        "lightgbm 0.65 <br>\n",
        "catboost 0.65 <br>"
      ]
    },
    {
      "cell_type": "markdown",
      "metadata": {
        "colab_type": "text",
        "id": "jFMye-RjIjbP"
      },
      "source": [
        "# So, our Best Model Selected according to its performance is Linear-SVM !"
      ]
    },
    {
      "cell_type": "markdown",
      "metadata": {
        "colab_type": "text",
        "id": "DaBQMxZ3IjbP"
      },
      "source": [
        "# 8. Hyperparameter Tuning and Model Optimization"
      ]
    },
    {
      "cell_type": "markdown",
      "metadata": {
        "colab_type": "text",
        "id": "kYiW7PxNIjbQ"
      },
      "source": [
        "Using GridSearch for searching best hyperparameter.   \n",
        "Model: Linear-SVM"
      ]
    },
    {
      "cell_type": "code",
      "metadata": {
        "colab_type": "code",
        "id": "0tYW6WVsIjbQ",
        "colab": {}
      },
      "source": [
        "from sklearn.model_selection import GridSearchCV\n",
        "from sklearn.model_selection import StratifiedKFold"
      ],
      "execution_count": 0,
      "outputs": []
    },
    {
      "cell_type": "code",
      "metadata": {
        "id": "Wr0-r7Al4BXp",
        "colab_type": "code",
        "colab": {}
      },
      "source": [
        "print(SVC().get_params().keys())"
      ],
      "execution_count": 0,
      "outputs": []
    },
    {
      "cell_type": "code",
      "metadata": {
        "_cell_guid": "c7496af3-31ed-4195-8797-7888f4410c3e",
        "_uuid": "31a5e026eac04f2edee67e09918ceddaf27ff629",
        "colab_type": "code",
        "id": "qdUq8aX-IjbQ",
        "colab": {}
      },
      "source": [
        "#using grid search method to find out the best groups of hyperparameters\n",
        "clas_cv = GridSearchCV(SVC(), {'C' : [1.0, 10, 100], \"gamma\" : ['scale'],\n",
        "                              'kernel': ['linear'], 'kernel': ['linear'], 'random_state': [0], \n",
        "                               'cache_size' : [200], 'degree': [3], 'coef0' : [0.0],\n",
        "                               'decision_function_shape' : ['ovr'], 'tol' : [0.001], 'gamma' : ['scale'], \n",
        "                               'max_iter' : [-1] }, scoring = 'accuracy', cv = 10, verbose=1)\n",
        "clas_cv.fit(x_train,y_train)"
      ],
      "execution_count": 0,
      "outputs": []
    },
    {
      "cell_type": "code",
      "metadata": {
        "id": "_stSV4NOkms9",
        "colab_type": "code",
        "colab": {}
      },
      "source": [
        "best_parameters=clas_cv.best_params_"
      ],
      "execution_count": 0,
      "outputs": []
    },
    {
      "cell_type": "code",
      "metadata": {
        "_cell_guid": "cc978005-bea6-4ae8-a9ad-e7e7faef8f50",
        "_uuid": "2981044867820f15b04dc054b0d5a27acc76179b",
        "colab_type": "code",
        "id": "HoZ9bEzzIjbS",
        "colab": {}
      },
      "source": [
        "#dictionary of the best parameters\n",
        "clas_cv.best_params_"
      ],
      "execution_count": 0,
      "outputs": []
    },
    {
      "cell_type": "markdown",
      "metadata": {
        "_cell_guid": "88574b66-b3c6-45f2-bf87-abb18714d34e",
        "_uuid": "85de70c233d62f08fe560b169f7465806c2dde54",
        "colab_type": "text",
        "id": "KY9yL4ZgIjbT"
      },
      "source": [
        "Train data using Linear-SVM with best parameters"
      ]
    },
    {
      "cell_type": "code",
      "metadata": {
        "_cell_guid": "d7917d17-2f9a-48d3-97f6-4f579b24fb87",
        "_uuid": "dba01178f5fec3076f113d85f132828e59d6004e",
        "colab_type": "code",
        "id": "PYDnh4s_IjbT",
        "colab": {}
      },
      "source": [
        "c_svm = SVC(**clas_cv.best_params_)\n",
        "c_svm.fit(x_train,y_train)"
      ],
      "execution_count": 0,
      "outputs": []
    },
    {
      "cell_type": "markdown",
      "metadata": {
        "_cell_guid": "e19d3903-b989-4920-89d7-991573c6bf4a",
        "_uuid": "9917f23302d627e44ad847df8a7bf1cd27d75d4d",
        "colab_type": "text",
        "id": "mWXWwOfmIjbU"
      },
      "source": [
        "Predicting the Results."
      ]
    },
    {
      "cell_type": "code",
      "metadata": {
        "_cell_guid": "2c1f987b-4b3e-46fb-9e97-82aad2058b44",
        "_uuid": "a5660ec00c22ff2f55d51c26566b8490f3f248ed",
        "colab_type": "code",
        "id": "x8IsmZ0VIjbU",
        "colab": {}
      },
      "source": [
        "y_pred = c_svm.predict(x_test)\n",
        "y_pred"
      ],
      "execution_count": 0,
      "outputs": []
    },
    {
      "cell_type": "markdown",
      "metadata": {
        "_cell_guid": "6b7fd0fa-b746-4205-ac75-f5c6d6b28cf0",
        "_uuid": "5ec47c743cb6aed59901df918a26564fb0e74050",
        "colab_type": "text",
        "id": "5JgfK0QXIjbV"
      },
      "source": [
        "Evaluating its Score"
      ]
    },
    {
      "cell_type": "code",
      "metadata": {
        "colab_type": "code",
        "id": "JEN3t_pVOStv",
        "colab": {}
      },
      "source": [
        "from sklearn.metrics import confusion_matrix, classification_report\n",
        "\n",
        "cm=confusion_matrix(y_test, y_pred)\n",
        "plt.figure(figsize = (5,5))\n",
        "sns.heatmap(cm, annot=True)\n",
        "plt.xlabel('Predicted')\n",
        "plt.ylabel('Truth')\n",
        "\n",
        "print(confusion_matrix(y_test, y_pred)) ; print(\"\\n\\n\")"
      ],
      "execution_count": 0,
      "outputs": []
    },
    {
      "cell_type": "code",
      "metadata": {
        "id": "QniwlIZhifrA",
        "colab_type": "code",
        "colab": {}
      },
      "source": [
        "print(classification_report(y_test, y_pred))"
      ],
      "execution_count": 0,
      "outputs": []
    },
    {
      "cell_type": "code",
      "metadata": {
        "id": "9u5PcPRgIfH1",
        "colab_type": "code",
        "colab": {}
      },
      "source": [
        "c_svm.score(x_test, y_test), c_svm.score(x_train, y_train)"
      ],
      "execution_count": 0,
      "outputs": []
    },
    {
      "cell_type": "markdown",
      "metadata": {
        "colab_type": "text",
        "id": "6axCZo0JIjbY"
      },
      "source": [
        "# 9. Saving the Model"
      ]
    },
    {
      "cell_type": "code",
      "metadata": {
        "colab_type": "code",
        "id": "kMxOR0fqIjbZ",
        "colab": {}
      },
      "source": [
        "import pickle\n",
        "filename = 'amcat.sav'\n",
        "pickle.dump(c_svm, open(filename, 'wb'))"
      ],
      "execution_count": 0,
      "outputs": []
    },
    {
      "cell_type": "code",
      "metadata": {
        "id": "1GipEsIZK5Up",
        "colab_type": "code",
        "colab": {}
      },
      "source": [
        "# to check the integrity\n",
        "loaded_model = pickle.load(open(filename,'rb'))\n",
        "result = loaded_model.score(x_test, y_test)\n",
        "print(result)"
      ],
      "execution_count": 0,
      "outputs": []
    },
    {
      "cell_type": "markdown",
      "metadata": {
        "colab_type": "text",
        "id": "OFP1s3ZuIjbZ"
      },
      "source": [
        "# 10. Creating a ML Pipeline"
      ]
    },
    {
      "cell_type": "code",
      "metadata": {
        "colab_type": "code",
        "id": "sF-QHf1VIjbZ",
        "colab": {}
      },
      "source": [
        "from sklearn.pipeline import Pipeline"
      ],
      "execution_count": 0,
      "outputs": []
    },
    {
      "cell_type": "markdown",
      "metadata": {
        "id": "jT-Iehsi15uA",
        "colab_type": "text"
      },
      "source": [
        "Pre-Processing"
      ]
    },
    {
      "cell_type": "code",
      "metadata": {
        "id": "rzZy8NrATGUL",
        "colab_type": "code",
        "colab": {}
      },
      "source": [
        "## ingore\n",
        "\n",
        "from sklearn.compose import ColumnTransformer\n",
        "from sklearn.preprocessing import FunctionTransformer\n",
        "\n",
        "label_enc = ['Gender']\n",
        "target_enc = ['Specialization in study', 'Year of Completion of college', '12th Completion year', '10th Completion Year']\n",
        "boxcox_f = ['10th Completion Year', '12th Completion year', 'Specialization in study', 'Year of Completion of college']\n",
        "\n",
        "preprocessor = ColumnTransformer(\n",
        "    transformers=[\n",
        "                  ('boxcox', FunctionTransformer(stats.boxcox, validate=False), boxcox_f),\n",
        "                  ('label', FunctionTransformer(LabelEncoder, validate=False), label_enc),\n",
        "                  ('target', FunctionTransformer(TargetEncoder, validate=False), target_enc),\n",
        "                  ('scale', StandardScaler())], \n",
        "                  remainder = 'passthrough')"
      ],
      "execution_count": 0,
      "outputs": []
    },
    {
      "cell_type": "markdown",
      "metadata": {
        "id": "Ciwm30Q72R7U",
        "colab_type": "text"
      },
      "source": [
        "Modeling"
      ]
    },
    {
      "cell_type": "code",
      "metadata": {
        "id": "3rVGiYkcUeMR",
        "colab_type": "code",
        "colab": {}
      },
      "source": [
        "## ingore\n",
        "\n",
        "log_reg = Pipeline(steps=[('preprocess', preprocessor),\n",
        "                          ('linear_svm', SVC())\n",
        "                          ]).fit(x_train, y_train);"
      ],
      "execution_count": 0,
      "outputs": []
    },
    {
      "cell_type": "code",
      "metadata": {
        "colab_type": "code",
        "id": "-P3xheFLIjba",
        "colab": {}
      },
      "source": [
        "pipe = Pipeline([('standard', StandardScaler()),\n",
        "                    #('boxcox'), stats.boxcox()),\n",
        "                    ('l-svm', SVC())])"
      ],
      "execution_count": 0,
      "outputs": []
    },
    {
      "cell_type": "code",
      "metadata": {
        "colab_type": "code",
        "id": "fETU3ZceIjbb",
        "colab": {}
      },
      "source": [
        "pipe.fit(x_train, y_train)"
      ],
      "execution_count": 0,
      "outputs": []
    },
    {
      "cell_type": "code",
      "metadata": {
        "colab_type": "code",
        "id": "_iHX2DIAIjbb",
        "colab": {}
      },
      "source": [
        "score = pipe.score(x_test, y_test)\n",
        "print('Linear-SVM pipeline test accuracy: %.3f' % score)"
      ],
      "execution_count": 0,
      "outputs": []
    },
    {
      "cell_type": "markdown",
      "metadata": {
        "id": "iTpv_qcB1nZj",
        "colab_type": "text"
      },
      "source": [
        "# 11. Generating Requirements File"
      ]
    },
    {
      "cell_type": "code",
      "metadata": {
        "id": "tvpVDLDj0BWB",
        "colab_type": "code",
        "colab": {}
      },
      "source": [
        "!pip freeze > requirements.txt"
      ],
      "execution_count": 0,
      "outputs": []
    },
    {
      "cell_type": "markdown",
      "metadata": {
        "colab_type": "text",
        "id": "yBVggzRoIjbc"
      },
      "source": [
        "# End."
      ]
    }
  ]
}